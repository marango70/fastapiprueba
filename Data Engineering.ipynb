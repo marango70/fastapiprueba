{
 "cells": [
  {
   "cell_type": "markdown",
   "metadata": {},
   "source": [
    "## Proyecto Individual I\n",
    "Presentado por: Maria Isabel Arango M.\n",
    "##\n",
    "marango@ex-fin.com"
   ]
  },
  {
   "cell_type": "code",
   "execution_count": 2,
   "metadata": {},
   "outputs": [],
   "source": [
    "# Librerias Necesarias\n",
    "\n",
    "import pandas as pd\n",
    "import numpy as np\n",
    "import matplotlib.pyplot as plt\n",
    "import seaborn as sns\n",
    "sns.set\n",
    "import warnings\n",
    "warnings.filterwarnings('ignore')\n",
    "import ast\n",
    "import datetime as dt"
   ]
  },
  {
   "cell_type": "code",
   "execution_count": 3,
   "metadata": {},
   "outputs": [],
   "source": [
    "#Cargar la Data\n",
    "data_movies = pd.read_csv('./Movies/movies_dataset.csv')\n",
    "data_credits = pd.read_csv('./Movies/Credits.csv')"
   ]
  },
  {
   "cell_type": "markdown",
   "metadata": {},
   "source": [
    "# Analisis Exploratorio de los Datos (data_movies) Inicial:"
   ]
  },
  {
   "cell_type": "markdown",
   "metadata": {},
   "source": [
    "**Información del Dataset**"
   ]
  },
  {
   "cell_type": "code",
   "execution_count": 4,
   "metadata": {},
   "outputs": [
    {
     "name": "stdout",
     "output_type": "stream",
     "text": [
      "<class 'pandas.core.frame.DataFrame'>\n",
      "RangeIndex: 45466 entries, 0 to 45465\n",
      "Data columns (total 24 columns):\n",
      " #   Column                 Non-Null Count  Dtype  \n",
      "---  ------                 --------------  -----  \n",
      " 0   adult                  45466 non-null  object \n",
      " 1   belongs_to_collection  4494 non-null   object \n",
      " 2   budget                 45466 non-null  object \n",
      " 3   genres                 45466 non-null  object \n",
      " 4   homepage               7782 non-null   object \n",
      " 5   id                     45466 non-null  object \n",
      " 6   imdb_id                45449 non-null  object \n",
      " 7   original_language      45455 non-null  object \n",
      " 8   original_title         45466 non-null  object \n",
      " 9   overview               44512 non-null  object \n",
      " 10  popularity             45461 non-null  object \n",
      " 11  poster_path            45080 non-null  object \n",
      " 12  production_companies   45463 non-null  object \n",
      " 13  production_countries   45463 non-null  object \n",
      " 14  release_date           45379 non-null  object \n",
      " 15  revenue                45460 non-null  float64\n",
      " 16  runtime                45203 non-null  float64\n",
      " 17  spoken_languages       45460 non-null  object \n",
      " 18  status                 45379 non-null  object \n",
      " 19  tagline                20412 non-null  object \n",
      " 20  title                  45460 non-null  object \n",
      " 21  video                  45460 non-null  object \n",
      " 22  vote_average           45460 non-null  float64\n",
      " 23  vote_count             45460 non-null  float64\n",
      "dtypes: float64(4), object(20)\n",
      "memory usage: 8.3+ MB\n"
     ]
    }
   ],
   "source": [
    "data_movies.info()      #Consulo la información del dataset movies"
   ]
  },
  {
   "cell_type": "code",
   "execution_count": 5,
   "metadata": {},
   "outputs": [
    {
     "data": {
      "text/html": [
       "<div>\n",
       "<style scoped>\n",
       "    .dataframe tbody tr th:only-of-type {\n",
       "        vertical-align: middle;\n",
       "    }\n",
       "\n",
       "    .dataframe tbody tr th {\n",
       "        vertical-align: top;\n",
       "    }\n",
       "\n",
       "    .dataframe thead th {\n",
       "        text-align: right;\n",
       "    }\n",
       "</style>\n",
       "<table border=\"1\" class=\"dataframe\">\n",
       "  <thead>\n",
       "    <tr style=\"text-align: right;\">\n",
       "      <th></th>\n",
       "      <th>revenue</th>\n",
       "      <th>runtime</th>\n",
       "      <th>vote_average</th>\n",
       "      <th>vote_count</th>\n",
       "    </tr>\n",
       "  </thead>\n",
       "  <tbody>\n",
       "    <tr>\n",
       "      <th>count</th>\n",
       "      <td>4.546000e+04</td>\n",
       "      <td>45203.000000</td>\n",
       "      <td>45460.000000</td>\n",
       "      <td>45460.000000</td>\n",
       "    </tr>\n",
       "    <tr>\n",
       "      <th>mean</th>\n",
       "      <td>1.120935e+07</td>\n",
       "      <td>94.128199</td>\n",
       "      <td>5.618207</td>\n",
       "      <td>109.897338</td>\n",
       "    </tr>\n",
       "    <tr>\n",
       "      <th>std</th>\n",
       "      <td>6.433225e+07</td>\n",
       "      <td>38.407810</td>\n",
       "      <td>1.924216</td>\n",
       "      <td>491.310374</td>\n",
       "    </tr>\n",
       "    <tr>\n",
       "      <th>min</th>\n",
       "      <td>0.000000e+00</td>\n",
       "      <td>0.000000</td>\n",
       "      <td>0.000000</td>\n",
       "      <td>0.000000</td>\n",
       "    </tr>\n",
       "    <tr>\n",
       "      <th>25%</th>\n",
       "      <td>0.000000e+00</td>\n",
       "      <td>85.000000</td>\n",
       "      <td>5.000000</td>\n",
       "      <td>3.000000</td>\n",
       "    </tr>\n",
       "    <tr>\n",
       "      <th>50%</th>\n",
       "      <td>0.000000e+00</td>\n",
       "      <td>95.000000</td>\n",
       "      <td>6.000000</td>\n",
       "      <td>10.000000</td>\n",
       "    </tr>\n",
       "    <tr>\n",
       "      <th>75%</th>\n",
       "      <td>0.000000e+00</td>\n",
       "      <td>107.000000</td>\n",
       "      <td>6.800000</td>\n",
       "      <td>34.000000</td>\n",
       "    </tr>\n",
       "    <tr>\n",
       "      <th>max</th>\n",
       "      <td>2.787965e+09</td>\n",
       "      <td>1256.000000</td>\n",
       "      <td>10.000000</td>\n",
       "      <td>14075.000000</td>\n",
       "    </tr>\n",
       "  </tbody>\n",
       "</table>\n",
       "</div>"
      ],
      "text/plain": [
       "            revenue       runtime  vote_average    vote_count\n",
       "count  4.546000e+04  45203.000000  45460.000000  45460.000000\n",
       "mean   1.120935e+07     94.128199      5.618207    109.897338\n",
       "std    6.433225e+07     38.407810      1.924216    491.310374\n",
       "min    0.000000e+00      0.000000      0.000000      0.000000\n",
       "25%    0.000000e+00     85.000000      5.000000      3.000000\n",
       "50%    0.000000e+00     95.000000      6.000000     10.000000\n",
       "75%    0.000000e+00    107.000000      6.800000     34.000000\n",
       "max    2.787965e+09   1256.000000     10.000000  14075.000000"
      ]
     },
     "execution_count": 5,
     "metadata": {},
     "output_type": "execute_result"
    }
   ],
   "source": [
    "data_movies.describe()"
   ]
  },
  {
   "cell_type": "code",
   "execution_count": 6,
   "metadata": {},
   "outputs": [
    {
     "data": {
      "text/html": [
       "<div>\n",
       "<style scoped>\n",
       "    .dataframe tbody tr th:only-of-type {\n",
       "        vertical-align: middle;\n",
       "    }\n",
       "\n",
       "    .dataframe tbody tr th {\n",
       "        vertical-align: top;\n",
       "    }\n",
       "\n",
       "    .dataframe thead th {\n",
       "        text-align: right;\n",
       "    }\n",
       "</style>\n",
       "<table border=\"1\" class=\"dataframe\">\n",
       "  <thead>\n",
       "    <tr style=\"text-align: right;\">\n",
       "      <th></th>\n",
       "      <th>adult</th>\n",
       "      <th>belongs_to_collection</th>\n",
       "      <th>budget</th>\n",
       "      <th>genres</th>\n",
       "      <th>homepage</th>\n",
       "      <th>id</th>\n",
       "      <th>imdb_id</th>\n",
       "      <th>original_language</th>\n",
       "      <th>original_title</th>\n",
       "      <th>overview</th>\n",
       "      <th>...</th>\n",
       "      <th>release_date</th>\n",
       "      <th>revenue</th>\n",
       "      <th>runtime</th>\n",
       "      <th>spoken_languages</th>\n",
       "      <th>status</th>\n",
       "      <th>tagline</th>\n",
       "      <th>title</th>\n",
       "      <th>video</th>\n",
       "      <th>vote_average</th>\n",
       "      <th>vote_count</th>\n",
       "    </tr>\n",
       "  </thead>\n",
       "  <tbody>\n",
       "    <tr>\n",
       "      <th>0</th>\n",
       "      <td>False</td>\n",
       "      <td>{'id': 10194, 'name': 'Toy Story Collection', ...</td>\n",
       "      <td>30000000</td>\n",
       "      <td>[{'id': 16, 'name': 'Animation'}, {'id': 35, '...</td>\n",
       "      <td>http://toystory.disney.com/toy-story</td>\n",
       "      <td>862</td>\n",
       "      <td>tt0114709</td>\n",
       "      <td>en</td>\n",
       "      <td>Toy Story</td>\n",
       "      <td>Led by Woody, Andy's toys live happily in his ...</td>\n",
       "      <td>...</td>\n",
       "      <td>1995-10-30</td>\n",
       "      <td>373554033.0</td>\n",
       "      <td>81.0</td>\n",
       "      <td>[{'iso_639_1': 'en', 'name': 'English'}]</td>\n",
       "      <td>Released</td>\n",
       "      <td>NaN</td>\n",
       "      <td>Toy Story</td>\n",
       "      <td>False</td>\n",
       "      <td>7.7</td>\n",
       "      <td>5415.0</td>\n",
       "    </tr>\n",
       "    <tr>\n",
       "      <th>1</th>\n",
       "      <td>False</td>\n",
       "      <td>NaN</td>\n",
       "      <td>65000000</td>\n",
       "      <td>[{'id': 12, 'name': 'Adventure'}, {'id': 14, '...</td>\n",
       "      <td>NaN</td>\n",
       "      <td>8844</td>\n",
       "      <td>tt0113497</td>\n",
       "      <td>en</td>\n",
       "      <td>Jumanji</td>\n",
       "      <td>When siblings Judy and Peter discover an encha...</td>\n",
       "      <td>...</td>\n",
       "      <td>1995-12-15</td>\n",
       "      <td>262797249.0</td>\n",
       "      <td>104.0</td>\n",
       "      <td>[{'iso_639_1': 'en', 'name': 'English'}, {'iso...</td>\n",
       "      <td>Released</td>\n",
       "      <td>Roll the dice and unleash the excitement!</td>\n",
       "      <td>Jumanji</td>\n",
       "      <td>False</td>\n",
       "      <td>6.9</td>\n",
       "      <td>2413.0</td>\n",
       "    </tr>\n",
       "    <tr>\n",
       "      <th>2</th>\n",
       "      <td>False</td>\n",
       "      <td>{'id': 119050, 'name': 'Grumpy Old Men Collect...</td>\n",
       "      <td>0</td>\n",
       "      <td>[{'id': 10749, 'name': 'Romance'}, {'id': 35, ...</td>\n",
       "      <td>NaN</td>\n",
       "      <td>15602</td>\n",
       "      <td>tt0113228</td>\n",
       "      <td>en</td>\n",
       "      <td>Grumpier Old Men</td>\n",
       "      <td>A family wedding reignites the ancient feud be...</td>\n",
       "      <td>...</td>\n",
       "      <td>1995-12-22</td>\n",
       "      <td>0.0</td>\n",
       "      <td>101.0</td>\n",
       "      <td>[{'iso_639_1': 'en', 'name': 'English'}]</td>\n",
       "      <td>Released</td>\n",
       "      <td>Still Yelling. Still Fighting. Still Ready for...</td>\n",
       "      <td>Grumpier Old Men</td>\n",
       "      <td>False</td>\n",
       "      <td>6.5</td>\n",
       "      <td>92.0</td>\n",
       "    </tr>\n",
       "    <tr>\n",
       "      <th>3</th>\n",
       "      <td>False</td>\n",
       "      <td>NaN</td>\n",
       "      <td>16000000</td>\n",
       "      <td>[{'id': 35, 'name': 'Comedy'}, {'id': 18, 'nam...</td>\n",
       "      <td>NaN</td>\n",
       "      <td>31357</td>\n",
       "      <td>tt0114885</td>\n",
       "      <td>en</td>\n",
       "      <td>Waiting to Exhale</td>\n",
       "      <td>Cheated on, mistreated and stepped on, the wom...</td>\n",
       "      <td>...</td>\n",
       "      <td>1995-12-22</td>\n",
       "      <td>81452156.0</td>\n",
       "      <td>127.0</td>\n",
       "      <td>[{'iso_639_1': 'en', 'name': 'English'}]</td>\n",
       "      <td>Released</td>\n",
       "      <td>Friends are the people who let you be yourself...</td>\n",
       "      <td>Waiting to Exhale</td>\n",
       "      <td>False</td>\n",
       "      <td>6.1</td>\n",
       "      <td>34.0</td>\n",
       "    </tr>\n",
       "    <tr>\n",
       "      <th>4</th>\n",
       "      <td>False</td>\n",
       "      <td>{'id': 96871, 'name': 'Father of the Bride Col...</td>\n",
       "      <td>0</td>\n",
       "      <td>[{'id': 35, 'name': 'Comedy'}]</td>\n",
       "      <td>NaN</td>\n",
       "      <td>11862</td>\n",
       "      <td>tt0113041</td>\n",
       "      <td>en</td>\n",
       "      <td>Father of the Bride Part II</td>\n",
       "      <td>Just when George Banks has recovered from his ...</td>\n",
       "      <td>...</td>\n",
       "      <td>1995-02-10</td>\n",
       "      <td>76578911.0</td>\n",
       "      <td>106.0</td>\n",
       "      <td>[{'iso_639_1': 'en', 'name': 'English'}]</td>\n",
       "      <td>Released</td>\n",
       "      <td>Just When His World Is Back To Normal... He's ...</td>\n",
       "      <td>Father of the Bride Part II</td>\n",
       "      <td>False</td>\n",
       "      <td>5.7</td>\n",
       "      <td>173.0</td>\n",
       "    </tr>\n",
       "    <tr>\n",
       "      <th>5</th>\n",
       "      <td>False</td>\n",
       "      <td>NaN</td>\n",
       "      <td>60000000</td>\n",
       "      <td>[{'id': 28, 'name': 'Action'}, {'id': 80, 'nam...</td>\n",
       "      <td>NaN</td>\n",
       "      <td>949</td>\n",
       "      <td>tt0113277</td>\n",
       "      <td>en</td>\n",
       "      <td>Heat</td>\n",
       "      <td>Obsessive master thief, Neil McCauley leads a ...</td>\n",
       "      <td>...</td>\n",
       "      <td>1995-12-15</td>\n",
       "      <td>187436818.0</td>\n",
       "      <td>170.0</td>\n",
       "      <td>[{'iso_639_1': 'en', 'name': 'English'}, {'iso...</td>\n",
       "      <td>Released</td>\n",
       "      <td>A Los Angeles Crime Saga</td>\n",
       "      <td>Heat</td>\n",
       "      <td>False</td>\n",
       "      <td>7.7</td>\n",
       "      <td>1886.0</td>\n",
       "    </tr>\n",
       "    <tr>\n",
       "      <th>6</th>\n",
       "      <td>False</td>\n",
       "      <td>NaN</td>\n",
       "      <td>58000000</td>\n",
       "      <td>[{'id': 35, 'name': 'Comedy'}, {'id': 10749, '...</td>\n",
       "      <td>NaN</td>\n",
       "      <td>11860</td>\n",
       "      <td>tt0114319</td>\n",
       "      <td>en</td>\n",
       "      <td>Sabrina</td>\n",
       "      <td>An ugly duckling having undergone a remarkable...</td>\n",
       "      <td>...</td>\n",
       "      <td>1995-12-15</td>\n",
       "      <td>0.0</td>\n",
       "      <td>127.0</td>\n",
       "      <td>[{'iso_639_1': 'fr', 'name': 'Français'}, {'is...</td>\n",
       "      <td>Released</td>\n",
       "      <td>You are cordially invited to the most surprisi...</td>\n",
       "      <td>Sabrina</td>\n",
       "      <td>False</td>\n",
       "      <td>6.2</td>\n",
       "      <td>141.0</td>\n",
       "    </tr>\n",
       "    <tr>\n",
       "      <th>7</th>\n",
       "      <td>False</td>\n",
       "      <td>NaN</td>\n",
       "      <td>0</td>\n",
       "      <td>[{'id': 28, 'name': 'Action'}, {'id': 12, 'nam...</td>\n",
       "      <td>NaN</td>\n",
       "      <td>45325</td>\n",
       "      <td>tt0112302</td>\n",
       "      <td>en</td>\n",
       "      <td>Tom and Huck</td>\n",
       "      <td>A mischievous young boy, Tom Sawyer, witnesses...</td>\n",
       "      <td>...</td>\n",
       "      <td>1995-12-22</td>\n",
       "      <td>0.0</td>\n",
       "      <td>97.0</td>\n",
       "      <td>[{'iso_639_1': 'en', 'name': 'English'}, {'iso...</td>\n",
       "      <td>Released</td>\n",
       "      <td>The Original Bad Boys.</td>\n",
       "      <td>Tom and Huck</td>\n",
       "      <td>False</td>\n",
       "      <td>5.4</td>\n",
       "      <td>45.0</td>\n",
       "    </tr>\n",
       "    <tr>\n",
       "      <th>8</th>\n",
       "      <td>False</td>\n",
       "      <td>NaN</td>\n",
       "      <td>35000000</td>\n",
       "      <td>[{'id': 28, 'name': 'Action'}, {'id': 12, 'nam...</td>\n",
       "      <td>NaN</td>\n",
       "      <td>9091</td>\n",
       "      <td>tt0114576</td>\n",
       "      <td>en</td>\n",
       "      <td>Sudden Death</td>\n",
       "      <td>International action superstar Jean Claude Van...</td>\n",
       "      <td>...</td>\n",
       "      <td>1995-12-22</td>\n",
       "      <td>64350171.0</td>\n",
       "      <td>106.0</td>\n",
       "      <td>[{'iso_639_1': 'en', 'name': 'English'}]</td>\n",
       "      <td>Released</td>\n",
       "      <td>Terror goes into overtime.</td>\n",
       "      <td>Sudden Death</td>\n",
       "      <td>False</td>\n",
       "      <td>5.5</td>\n",
       "      <td>174.0</td>\n",
       "    </tr>\n",
       "    <tr>\n",
       "      <th>9</th>\n",
       "      <td>False</td>\n",
       "      <td>{'id': 645, 'name': 'James Bond Collection', '...</td>\n",
       "      <td>58000000</td>\n",
       "      <td>[{'id': 12, 'name': 'Adventure'}, {'id': 28, '...</td>\n",
       "      <td>http://www.mgm.com/view/movie/757/Goldeneye/</td>\n",
       "      <td>710</td>\n",
       "      <td>tt0113189</td>\n",
       "      <td>en</td>\n",
       "      <td>GoldenEye</td>\n",
       "      <td>James Bond must unmask the mysterious head of ...</td>\n",
       "      <td>...</td>\n",
       "      <td>1995-11-16</td>\n",
       "      <td>352194034.0</td>\n",
       "      <td>130.0</td>\n",
       "      <td>[{'iso_639_1': 'en', 'name': 'English'}, {'iso...</td>\n",
       "      <td>Released</td>\n",
       "      <td>No limits. No fears. No substitutes.</td>\n",
       "      <td>GoldenEye</td>\n",
       "      <td>False</td>\n",
       "      <td>6.6</td>\n",
       "      <td>1194.0</td>\n",
       "    </tr>\n",
       "  </tbody>\n",
       "</table>\n",
       "<p>10 rows × 24 columns</p>\n",
       "</div>"
      ],
      "text/plain": [
       "   adult                              belongs_to_collection    budget  \\\n",
       "0  False  {'id': 10194, 'name': 'Toy Story Collection', ...  30000000   \n",
       "1  False                                                NaN  65000000   \n",
       "2  False  {'id': 119050, 'name': 'Grumpy Old Men Collect...         0   \n",
       "3  False                                                NaN  16000000   \n",
       "4  False  {'id': 96871, 'name': 'Father of the Bride Col...         0   \n",
       "5  False                                                NaN  60000000   \n",
       "6  False                                                NaN  58000000   \n",
       "7  False                                                NaN         0   \n",
       "8  False                                                NaN  35000000   \n",
       "9  False  {'id': 645, 'name': 'James Bond Collection', '...  58000000   \n",
       "\n",
       "                                              genres  \\\n",
       "0  [{'id': 16, 'name': 'Animation'}, {'id': 35, '...   \n",
       "1  [{'id': 12, 'name': 'Adventure'}, {'id': 14, '...   \n",
       "2  [{'id': 10749, 'name': 'Romance'}, {'id': 35, ...   \n",
       "3  [{'id': 35, 'name': 'Comedy'}, {'id': 18, 'nam...   \n",
       "4                     [{'id': 35, 'name': 'Comedy'}]   \n",
       "5  [{'id': 28, 'name': 'Action'}, {'id': 80, 'nam...   \n",
       "6  [{'id': 35, 'name': 'Comedy'}, {'id': 10749, '...   \n",
       "7  [{'id': 28, 'name': 'Action'}, {'id': 12, 'nam...   \n",
       "8  [{'id': 28, 'name': 'Action'}, {'id': 12, 'nam...   \n",
       "9  [{'id': 12, 'name': 'Adventure'}, {'id': 28, '...   \n",
       "\n",
       "                                       homepage     id    imdb_id  \\\n",
       "0          http://toystory.disney.com/toy-story    862  tt0114709   \n",
       "1                                           NaN   8844  tt0113497   \n",
       "2                                           NaN  15602  tt0113228   \n",
       "3                                           NaN  31357  tt0114885   \n",
       "4                                           NaN  11862  tt0113041   \n",
       "5                                           NaN    949  tt0113277   \n",
       "6                                           NaN  11860  tt0114319   \n",
       "7                                           NaN  45325  tt0112302   \n",
       "8                                           NaN   9091  tt0114576   \n",
       "9  http://www.mgm.com/view/movie/757/Goldeneye/    710  tt0113189   \n",
       "\n",
       "  original_language               original_title  \\\n",
       "0                en                    Toy Story   \n",
       "1                en                      Jumanji   \n",
       "2                en             Grumpier Old Men   \n",
       "3                en            Waiting to Exhale   \n",
       "4                en  Father of the Bride Part II   \n",
       "5                en                         Heat   \n",
       "6                en                      Sabrina   \n",
       "7                en                 Tom and Huck   \n",
       "8                en                 Sudden Death   \n",
       "9                en                    GoldenEye   \n",
       "\n",
       "                                            overview  ... release_date  \\\n",
       "0  Led by Woody, Andy's toys live happily in his ...  ...   1995-10-30   \n",
       "1  When siblings Judy and Peter discover an encha...  ...   1995-12-15   \n",
       "2  A family wedding reignites the ancient feud be...  ...   1995-12-22   \n",
       "3  Cheated on, mistreated and stepped on, the wom...  ...   1995-12-22   \n",
       "4  Just when George Banks has recovered from his ...  ...   1995-02-10   \n",
       "5  Obsessive master thief, Neil McCauley leads a ...  ...   1995-12-15   \n",
       "6  An ugly duckling having undergone a remarkable...  ...   1995-12-15   \n",
       "7  A mischievous young boy, Tom Sawyer, witnesses...  ...   1995-12-22   \n",
       "8  International action superstar Jean Claude Van...  ...   1995-12-22   \n",
       "9  James Bond must unmask the mysterious head of ...  ...   1995-11-16   \n",
       "\n",
       "       revenue runtime                                   spoken_languages  \\\n",
       "0  373554033.0    81.0           [{'iso_639_1': 'en', 'name': 'English'}]   \n",
       "1  262797249.0   104.0  [{'iso_639_1': 'en', 'name': 'English'}, {'iso...   \n",
       "2          0.0   101.0           [{'iso_639_1': 'en', 'name': 'English'}]   \n",
       "3   81452156.0   127.0           [{'iso_639_1': 'en', 'name': 'English'}]   \n",
       "4   76578911.0   106.0           [{'iso_639_1': 'en', 'name': 'English'}]   \n",
       "5  187436818.0   170.0  [{'iso_639_1': 'en', 'name': 'English'}, {'iso...   \n",
       "6          0.0   127.0  [{'iso_639_1': 'fr', 'name': 'Français'}, {'is...   \n",
       "7          0.0    97.0  [{'iso_639_1': 'en', 'name': 'English'}, {'iso...   \n",
       "8   64350171.0   106.0           [{'iso_639_1': 'en', 'name': 'English'}]   \n",
       "9  352194034.0   130.0  [{'iso_639_1': 'en', 'name': 'English'}, {'iso...   \n",
       "\n",
       "     status                                            tagline  \\\n",
       "0  Released                                                NaN   \n",
       "1  Released          Roll the dice and unleash the excitement!   \n",
       "2  Released  Still Yelling. Still Fighting. Still Ready for...   \n",
       "3  Released  Friends are the people who let you be yourself...   \n",
       "4  Released  Just When His World Is Back To Normal... He's ...   \n",
       "5  Released                           A Los Angeles Crime Saga   \n",
       "6  Released  You are cordially invited to the most surprisi...   \n",
       "7  Released                             The Original Bad Boys.   \n",
       "8  Released                         Terror goes into overtime.   \n",
       "9  Released               No limits. No fears. No substitutes.   \n",
       "\n",
       "                         title  video vote_average vote_count  \n",
       "0                    Toy Story  False          7.7     5415.0  \n",
       "1                      Jumanji  False          6.9     2413.0  \n",
       "2             Grumpier Old Men  False          6.5       92.0  \n",
       "3            Waiting to Exhale  False          6.1       34.0  \n",
       "4  Father of the Bride Part II  False          5.7      173.0  \n",
       "5                         Heat  False          7.7     1886.0  \n",
       "6                      Sabrina  False          6.2      141.0  \n",
       "7                 Tom and Huck  False          5.4       45.0  \n",
       "8                 Sudden Death  False          5.5      174.0  \n",
       "9                    GoldenEye  False          6.6     1194.0  \n",
       "\n",
       "[10 rows x 24 columns]"
      ]
     },
     "execution_count": 6,
     "metadata": {},
     "output_type": "execute_result"
    }
   ],
   "source": [
    "data_movies.head(10)      #Veo las primeras 10 filas de la información"
   ]
  },
  {
   "cell_type": "markdown",
   "metadata": {},
   "source": [
    "**Limpieza y transformación de los datos**"
   ]
  },
  {
   "cell_type": "markdown",
   "metadata": {},
   "source": [
    "Verifico si tengo filas duplicadas y las borro."
   ]
  },
  {
   "cell_type": "code",
   "execution_count": 7,
   "metadata": {},
   "outputs": [
    {
     "name": "stdout",
     "output_type": "stream",
     "text": [
      "El set tiene : 13  filas duplicadas\n",
      "Las filas duplicadas han sido eliminadas\n"
     ]
    }
   ],
   "source": [
    "print('El set tiene :',data_movies.duplicated().sum(),' filas duplicadas')\n",
    "data_movies = data_movies.drop_duplicates()\n",
    "print('Las filas duplicadas han sido eliminadas')"
   ]
  },
  {
   "cell_type": "markdown",
   "metadata": {},
   "source": [
    "Elimino las columnas que no serán utilizadas, video,imdb_id,adult,original_title,poster_path y homepage."
   ]
  },
  {
   "cell_type": "code",
   "execution_count": 8,
   "metadata": {},
   "outputs": [],
   "source": [
    "# Elimino las columnas que no serán utilizadas:\n",
    "data_movies = data_movies.drop(columns=['video','imdb_id','adult','original_title','poster_path','homepage'])"
   ]
  },
  {
   "cell_type": "markdown",
   "metadata": {},
   "source": [
    "Desanido las columnas: belongs_to_colecction, production_countries, production_companies y spoken_lenguajes"
   ]
  },
  {
   "cell_type": "code",
   "execution_count": 9,
   "metadata": {},
   "outputs": [
    {
     "name": "stdout",
     "output_type": "stream",
     "text": [
      "{'id': 10194, 'name': 'Toy Story Collection', 'poster_path': '/7G9915LfUQ2lVfwMEEhDsn3kT4B.jpg', 'backdrop_path': '/9FBwqcd9IRruEDUrTdcaafOMKUq.jpg'}\n",
      "[{'name': 'Pixar Animation Studios', 'id': 3}]\n",
      "[{'iso_3166_1': 'US', 'name': 'United States of America'}]\n",
      "[{'iso_639_1': 'en', 'name': 'English'}]\n",
      "[{'id': 16, 'name': 'Animation'}, {'id': 35, 'name': 'Comedy'}, {'id': 10751, 'name': 'Family'}]\n"
     ]
    }
   ],
   "source": [
    "#Imprimo el 1er elemento de las columnas anidada para verificar sus formatos.\n",
    "print(data_movies['belongs_to_collection'][0])\n",
    "print(data_movies['production_companies'][0])\n",
    "print(data_movies['production_countries'][0])\n",
    "print(data_movies['spoken_languages'][0])\n",
    "print(data_movies['genres'][0])"
   ]
  },
  {
   "cell_type": "code",
   "execution_count": 10,
   "metadata": {},
   "outputs": [],
   "source": [
    "#La columna belongs_to_collection tiene un formato diferente a las otras, por lo que debo hacer un procedimiento para esta y otro para las demas"
   ]
  },
  {
   "cell_type": "code",
   "execution_count": 11,
   "metadata": {},
   "outputs": [],
   "source": [
    "#DESANIDAR belonds_to_collection:\n",
    "\n",
    "# Creo una función para convertir las lineas de texto (string) en un objeto diccionario\n",
    "def convertir(val):\n",
    "    if pd.isna(val):                        #Verifico si es NaN y dejo el mismo valor\n",
    "        return val\n",
    "    try:\n",
    "        return ast.literal_eval(val)        #Convierto el valor en una diccionario (objeto)\n",
    "    except (ValueError, SyntaxError):\n",
    "        return val"
   ]
  },
  {
   "cell_type": "code",
   "execution_count": 12,
   "metadata": {},
   "outputs": [],
   "source": [
    "#Extraigo la información de la columna \"belongs_to_collection\"\n",
    "\n",
    "data_movies['belongs_to_collection'] = data_movies['belongs_to_collection'].apply(convertir)  #Aplico la funcion safe_literal_eva a las columnas anidadas\n",
    "columnas_df = pd.json_normalize(data_movies['belongs_to_collection'])                       #Normalizo y añado las columnas a un dataframe\n",
    "columnas_df.columns = [f'belongs_to_collection_{col}' for col in columnas_df.columns]   #renombro las columnas\n",
    "data_movies = data_movies.join(columnas_df, how='left')  #Añado las nuevas columnas al dataframe y borro la original"
   ]
  },
  {
   "cell_type": "code",
   "execution_count": 13,
   "metadata": {},
   "outputs": [],
   "source": [
    "# Elimino las columnas que tienen muchos datos faltantes:\n",
    "data_movies = data_movies.drop(columns=['belongs_to_collection_backdrop_path','belongs_to_collection_poster_path','belongs_to_collection'])"
   ]
  },
  {
   "cell_type": "code",
   "execution_count": 14,
   "metadata": {},
   "outputs": [],
   "source": [
    "#DESANIDAR: spoken:lenguages, production_companies y production_countries\n",
    "#Elimino las filas con valores NaN en las columnas a desanidar\n",
    "\n",
    "data_movies = data_movies.dropna(axis=0, subset=['spoken_languages'])\n",
    "data_movies = data_movies.dropna(axis=0, subset=['production_companies'])\n",
    "data_movies = data_movies.dropna(axis=0, subset=['production_countries'])\n",
    "data_movies = data_movies.dropna(axis=0, subset=['genres'])"
   ]
  },
  {
   "cell_type": "code",
   "execution_count": 15,
   "metadata": {},
   "outputs": [
    {
     "data": {
      "text/plain": [
       "array([\"[{'iso_639_1': 'en', 'name': 'English'}]\",\n",
       "       \"[{'iso_639_1': 'en', 'name': 'English'}, {'iso_639_1': 'fr', 'name': 'Français'}]\",\n",
       "       \"[{'iso_639_1': 'en', 'name': 'English'}, {'iso_639_1': 'es', 'name': 'Español'}]\",\n",
       "       ...,\n",
       "       \"[{'iso_639_1': 'sv', 'name': 'svenska'}, {'iso_639_1': 'de', 'name': 'Deutsch'}]\",\n",
       "       \"[{'iso_639_1': 'ar', 'name': 'العربية'}, {'iso_639_1': 'pl', 'name': 'Polski'}]\",\n",
       "       \"[{'iso_639_1': 'ff', 'name': 'Fulfulde'}, {'iso_639_1': 'en', 'name': 'English'}]\"],\n",
       "      dtype=object)"
      ]
     },
     "execution_count": 15,
     "metadata": {},
     "output_type": "execute_result"
    }
   ],
   "source": [
    "#Valores unicos de la columna spoken_lenguages\n",
    "data_movies['spoken_languages'].unique()"
   ]
  },
  {
   "cell_type": "code",
   "execution_count": 16,
   "metadata": {},
   "outputs": [],
   "source": [
    "# convierto la información de las columnas anidadas de str a lista de diccionarios\n",
    "\n",
    "data_movies['spoken_languages'] = data_movies['spoken_languages'].apply(ast.literal_eval)\n",
    "data_movies['production_companies'] = data_movies['production_companies'].apply(ast.literal_eval)\n",
    "data_movies['production_countries'] = data_movies['production_countries'].apply(ast.literal_eval)\n",
    "data_movies['genres'] = data_movies['genres'].apply(ast.literal_eval)"
   ]
  },
  {
   "cell_type": "code",
   "execution_count": 17,
   "metadata": {},
   "outputs": [],
   "source": [
    "# Función para extraer en dos columnas la información de los dos idiomas\n",
    "def extraer(l):\n",
    "    if len(l) > 0:\n",
    "        spoken_languages_1_iso = l[0].get('iso_639_1')\n",
    "        spoken_languages_1_name = l[0].get('name')\n",
    "    else:\n",
    "        spoken_languages_1_iso = None\n",
    "        spoken_languages_1_name = None\n",
    "    \n",
    "    if len(l) > 1:\n",
    "        spoken_languages_2_iso = l[1].get('iso_639_1')\n",
    "        spoken_languages_2_name = l[1].get('name')\n",
    "    else:\n",
    "        spoken_languages_2_iso = None\n",
    "        spoken_languages_2_name = None\n",
    "    return pd.Series([spoken_languages_1_iso, spoken_languages_1_name, spoken_languages_2_iso, spoken_languages_2_name])\n",
    "\n",
    "data_movies[['spoken_languages_1_iso','spoken_languaje_1_name', 'spoken_languages_2_iso','spoken_languages_2_name']] = data_movies['spoken_languages'].apply(extraer)  #aplico la funcion extraer a la columna spoken_lenguajes\n"
   ]
  },
  {
   "cell_type": "code",
   "execution_count": 18,
   "metadata": {},
   "outputs": [],
   "source": [
    "#Elimino la columna spoken_languages_2 por que tiene muy pocos datos\n",
    "data_movies = data_movies.drop(axis=1,columns=['spoken_languages','spoken_languages_2_iso','spoken_languages_2_name'])"
   ]
  },
  {
   "cell_type": "code",
   "execution_count": 19,
   "metadata": {},
   "outputs": [],
   "source": [
    "# Función para extraer en dos columnas la información de las compañias de producción\n",
    "def extraer_2(companies):\n",
    "    if len(companies) > 0:          \n",
    "        production_companies_1_name = companies[0].get('name')\n",
    "        production_companies_1_id = companies[0].get('id')\n",
    "    else:\n",
    "        production_companies_1_name = None\n",
    "        production_companies_1_id= None\n",
    "\n",
    "    if len(companies) > 1:\n",
    "        production_companies_2_name= companies[1].get('name')\n",
    "        production_companies_2_id = companies[1].get('id')\n",
    "    else:\n",
    "        production_companies_2_name = None\n",
    "        production_companies_2_id= None\n",
    "        \n",
    "    if len(companies) > 2:\n",
    "        production_companies_3_name= companies[2].get('name')\n",
    "        production_companies_3_id = companies[2].get('id')\n",
    "    else:\n",
    "        production_companies_3_name = None\n",
    "        production_companies_3_id= None\n",
    "\n",
    "    return pd.Series([production_companies_1_name, \n",
    "                      production_companies_1_id, \n",
    "                      production_companies_2_name, \n",
    "                      production_companies_2_id,\n",
    "                      production_companies_3_name,\n",
    "                      production_companies_3_id])\n",
    "\n",
    "#aplico la funcion extraer la información\n",
    "\n",
    "data_movies[['production_companies_1_name',\n",
    "             'production_companies_1_id',\n",
    "             'production_companies_2_name',\n",
    "             'production_companies_2_id',\n",
    "             'production_companies_3_name',\n",
    "             'production_companies_3_id']] = data_movies['production_companies'].apply(extraer_2)  "
   ]
  },
  {
   "cell_type": "code",
   "execution_count": 20,
   "metadata": {},
   "outputs": [],
   "source": [
    "#Elimino la columnas que tiene muy pocos datos y la columna original\n",
    "data_movies = data_movies.drop(axis=1,columns=['production_companies','production_companies_3_name','production_companies_3_id'])"
   ]
  },
  {
   "cell_type": "code",
   "execution_count": 21,
   "metadata": {},
   "outputs": [],
   "source": [
    "# Función para extraer en dos columnas la información de los paises de producción\n",
    "def extraer_3(countries):\n",
    "    if len(countries) > 0:          \n",
    "        production_countries_1_iso = countries[0].get('iso_3166_1')\n",
    "        production_countries_1_name = countries[0].get('name')\n",
    "    else:\n",
    "        production_countries_1_iso = None\n",
    "        production_countries_1_name = None\n",
    "\n",
    "    if len(countries) > 1:          \n",
    "        production_countries_2_iso = countries[0].get('iso_3166_1')\n",
    "        production_countries_2_name = countries[0].get('name')\n",
    "    else:\n",
    "        production_countries_2_iso = None\n",
    "        production_countries_2_name = None\n",
    "        \n",
    "    return pd.Series([production_countries_1_iso,\n",
    "                      production_countries_1_name,\n",
    "                      production_countries_2_iso,\n",
    "                      production_countries_2_name])\n",
    "\n",
    "#aplico la funcion extraer la información\n",
    "\n",
    "data_movies[['production_countries_1_iso',\n",
    "            'production_countries_1_name',\n",
    "            'production_countries_2_iso',\n",
    "            'production_countries_2_name']] = data_movies['production_countries'].apply(extraer_3)  "
   ]
  },
  {
   "cell_type": "code",
   "execution_count": 22,
   "metadata": {},
   "outputs": [],
   "source": [
    "#Elimino la columnas que tienen muy pocos datos y la original\n",
    "data_movies = data_movies.drop(axis=1,columns=['production_countries','production_countries_2_name','production_countries_2_iso'])"
   ]
  },
  {
   "cell_type": "code",
   "execution_count": 23,
   "metadata": {},
   "outputs": [
    {
     "name": "stdout",
     "output_type": "stream",
     "text": [
      "[{'id': 16, 'name': 'Animation'}, {'id': 35, 'name': 'Comedy'}, {'id': 10751, 'name': 'Family'}]\n"
     ]
    }
   ],
   "source": [
    "print(data_movies['genres'][0])"
   ]
  },
  {
   "cell_type": "code",
   "execution_count": 24,
   "metadata": {},
   "outputs": [],
   "source": [
    "# Función para extraer en dos columnas la información de los generos\n",
    "\n",
    "def extraer_4(genero):\n",
    "    if len(genero) > 0:          \n",
    "        genres_1_id = genero[0].get('id')\n",
    "        genres_1_name = genero[0].get('name')\n",
    "    else:\n",
    "        genres_1_id = None\n",
    "        genres_1_name = None\n",
    "\n",
    "    if len(genero) > 1:          \n",
    "        genres_2_id = genero[0].get('id')\n",
    "        genres_2_name = genero[0].get('name')\n",
    "    else:\n",
    "        genres_2_id = None\n",
    "        genres_2_name = None\n",
    "    \n",
    "    if len(genero) > 2:          \n",
    "        genres_3_id = genero[0].get('id')\n",
    "        genres_3_name = genero[0].get('name')\n",
    "    else:\n",
    "        genres_3_id = None\n",
    "        genres_3_name = None\n",
    "\n",
    "    return pd.Series([genres_1_id,genres_1_name,\n",
    "                      genres_2_id, genres_2_name,\n",
    "                      genres_3_id, genres_3_name])\n",
    "\n",
    "data_movies[['genres_1_id','genres_1_name',\n",
    "            'genres_2_id','genres_2_name',\n",
    "            'genres_3_id','genres_3_name']] = data_movies['genres'].apply(extraer_4)  "
   ]
  },
  {
   "cell_type": "code",
   "execution_count": 25,
   "metadata": {},
   "outputs": [
    {
     "name": "stdout",
     "output_type": "stream",
     "text": [
      "Valores nulos en la columna genres_id_1:  2442\n",
      "Valores nulos en la columna genres_id_2:  17000\n",
      "Valores nulos en la columna genres_id_3:  31472\n"
     ]
    }
   ],
   "source": [
    "print('Valores nulos en la columna genres_id_1: ',data_movies['genres_1_id'].isnull().sum())\n",
    "print('Valores nulos en la columna genres_id_2: ',data_movies['genres_2_id'].isnull().sum())\n",
    "print('Valores nulos en la columna genres_id_3: ',data_movies['genres_3_id'].isnull().sum())"
   ]
  },
  {
   "cell_type": "code",
   "execution_count": 26,
   "metadata": {},
   "outputs": [],
   "source": [
    "#Elimino la columna original\n",
    "data_movies = data_movies.drop(axis=1,columns=['genres'])"
   ]
  },
  {
   "cell_type": "markdown",
   "metadata": {},
   "source": [
    "Rellenar con 0 los valores nulos de los campos revenue, budget"
   ]
  },
  {
   "cell_type": "code",
   "execution_count": 27,
   "metadata": {},
   "outputs": [
    {
     "name": "stdout",
     "output_type": "stream",
     "text": [
      "Cantidad de valores nulos en la columna budget:  0\n",
      "Cantidad de valores nulos en la columna revenue:  0\n"
     ]
    }
   ],
   "source": [
    "#Las columnas no tienen Nulos\n",
    "\n",
    "print('Cantidad de valores nulos en la columna budget: ',data_movies['budget'].isnull().sum())\n",
    "print('Cantidad de valores nulos en la columna revenue: ',data_movies['revenue'].isnull().sum())"
   ]
  },
  {
   "cell_type": "markdown",
   "metadata": {},
   "source": [
    "Eliminar valores nulos de Release Date"
   ]
  },
  {
   "cell_type": "code",
   "execution_count": 28,
   "metadata": {},
   "outputs": [],
   "source": [
    "# Elimino los valores nulos de la columna release_date\n",
    "data_movies = data_movies.dropna(axis=0, subset=['release_date'])"
   ]
  },
  {
   "cell_type": "markdown",
   "metadata": {},
   "source": [
    "Cambiar fechas a formato AAAA-mm-dd y crear la columna release_year\n"
   ]
  },
  {
   "cell_type": "code",
   "execution_count": 29,
   "metadata": {},
   "outputs": [
    {
     "data": {
      "text/plain": [
       "str"
      ]
     },
     "execution_count": 29,
     "metadata": {},
     "output_type": "execute_result"
    }
   ],
   "source": [
    "#Verifico el tipo de realease date y veo que es un string\n",
    "type(data_movies['release_date'][0])"
   ]
  },
  {
   "cell_type": "code",
   "execution_count": 30,
   "metadata": {},
   "outputs": [],
   "source": [
    "#Convierto a Tipo datetime para poder extraer el año\n",
    "\n",
    "#data_movies['release_date'] = pd.to_datetime(data_movies['release_date'])\n",
    "data_movies['release_year'] = pd.to_datetime(data_movies['release_date']).dt.year"
   ]
  },
  {
   "cell_type": "markdown",
   "metadata": {},
   "source": [
    "Crear columna retorno de inversión:"
   ]
  },
  {
   "cell_type": "code",
   "execution_count": 31,
   "metadata": {},
   "outputs": [
    {
     "name": "stdout",
     "output_type": "stream",
     "text": [
      "Los datos de la columna budget es tipo:  <class 'str'>\n",
      "Los datos de la columna revenue es tipo:  <class 'numpy.float64'>\n"
     ]
    }
   ],
   "source": [
    "#Verifico el tipo de datos:\n",
    "print('Los datos de la columna budget es tipo: ', type(data_movies['budget'][0]))\n",
    "      \n",
    "print('Los datos de la columna revenue es tipo: ',type(data_movies['revenue'][0]))"
   ]
  },
  {
   "cell_type": "code",
   "execution_count": 32,
   "metadata": {},
   "outputs": [],
   "source": [
    "data_movies['budget'] = pd.to_numeric(data_movies['budget'])"
   ]
  },
  {
   "cell_type": "code",
   "execution_count": 33,
   "metadata": {},
   "outputs": [],
   "source": [
    "def calculo_retorno(row):\n",
    "    \n",
    "    budget = row['budget']\n",
    "    revenue = row['revenue']\n",
    "    if budget == None or budget ==0:\n",
    "        retorno = 0.0\n",
    "    elif revenue == None or revenue==0:\n",
    "        retorno =0.0\n",
    "    else:\n",
    "        retorno = (revenue - budget) / budget\n",
    "\n",
    "    return retorno\n",
    "\n",
    "def calculo_retorno_US(row):\n",
    "    \n",
    "    budget = row['budget']\n",
    "    revenue = row['revenue']\n",
    "    if budget == None or budget ==0:\n",
    "        retorno = 0.0\n",
    "    elif revenue == None or revenue==0:\n",
    "        retorno =0.0\n",
    "    else:\n",
    "        retorno = (revenue - budget) \n",
    "\n",
    "    return retorno"
   ]
  },
  {
   "cell_type": "code",
   "execution_count": 34,
   "metadata": {},
   "outputs": [],
   "source": [
    "data_movies['return'] = data_movies.apply(calculo_retorno,axis=1)\n",
    "data_movies['retorno_US'] = data_movies.apply(calculo_retorno_US,axis=1)"
   ]
  },
  {
   "cell_type": "code",
   "execution_count": 35,
   "metadata": {},
   "outputs": [],
   "source": [
    "data_movies['popularity'] = pd.to_numeric(data_movies['popularity'])"
   ]
  },
  {
   "cell_type": "code",
   "execution_count": 36,
   "metadata": {},
   "outputs": [
    {
     "name": "stdout",
     "output_type": "stream",
     "text": [
      "<class 'pandas.core.frame.DataFrame'>\n",
      "Index: 45363 entries, 0 to 45465\n",
      "Data columns (total 32 columns):\n",
      " #   Column                       Non-Null Count  Dtype  \n",
      "---  ------                       --------------  -----  \n",
      " 0   budget                       45363 non-null  int64  \n",
      " 1   id                           45363 non-null  object \n",
      " 2   original_language            45352 non-null  object \n",
      " 3   overview                     44422 non-null  object \n",
      " 4   popularity                   45363 non-null  float64\n",
      " 5   release_date                 45363 non-null  object \n",
      " 6   revenue                      45363 non-null  float64\n",
      " 7   runtime                      45117 non-null  float64\n",
      " 8   status                       45283 non-null  object \n",
      " 9   tagline                      20394 non-null  object \n",
      " 10  title                        45363 non-null  object \n",
      " 11  vote_average                 45363 non-null  float64\n",
      " 12  vote_count                   45363 non-null  float64\n",
      " 13  belongs_to_collection_id     4483 non-null   float64\n",
      " 14  belongs_to_collection_name   4483 non-null   object \n",
      " 15  spoken_languages_1_iso       41597 non-null  object \n",
      " 16  spoken_languaje_1_name       41597 non-null  object \n",
      " 17  production_companies_1_name  33570 non-null  object \n",
      " 18  production_companies_1_id    33570 non-null  float64\n",
      " 19  production_companies_2_name  16996 non-null  object \n",
      " 20  production_companies_2_id    16996 non-null  float64\n",
      " 21  production_countries_1_iso   39154 non-null  object \n",
      " 22  production_countries_1_name  39154 non-null  object \n",
      " 23  genres_1_id                  42979 non-null  float64\n",
      " 24  genres_1_name                42979 non-null  object \n",
      " 25  genres_2_id                  28433 non-null  float64\n",
      " 26  genres_2_name                28433 non-null  object \n",
      " 27  genres_3_id                  13967 non-null  float64\n",
      " 28  genres_3_name                13967 non-null  object \n",
      " 29  release_year                 45363 non-null  int32  \n",
      " 30  return                       45363 non-null  float64\n",
      " 31  retorno_US                   45363 non-null  float64\n",
      "dtypes: float64(13), int32(1), int64(1), object(17)\n",
      "memory usage: 12.3+ MB\n"
     ]
    }
   ],
   "source": [
    "data_movies.info()\n"
   ]
  },
  {
   "cell_type": "code",
   "execution_count": 37,
   "metadata": {},
   "outputs": [],
   "source": [
    "# Función para limpiar las columnas string\n",
    "\n",
    "Lista_columnas = ['title']\n",
    "\n",
    "\n",
    "def limpiar_nombres(df, columnas):\n",
    "    for col in columnas:\n",
    "        if col in df.columns:\n",
    "            df[col] = df[col].astype(str)  # Asegurarse de que los datos sean cadenas\n",
    "            df[col] = df[col].str.lower()  # Convertir a minúsculas\n",
    "            df[col] = df[col].str.strip()  # Eliminar espacios al principio y al final\n",
    "            df[col] = df[col].str.replace(r'\\s+', ' ', regex=True)  # Reemplazar múltiples espacios con un solo espacio\n",
    "\n",
    "limpiar_nombres(data_movies,Lista_columnas)"
   ]
  },
  {
   "cell_type": "code",
   "execution_count": 38,
   "metadata": {},
   "outputs": [
    {
     "data": {
      "text/plain": [
       "str"
      ]
     },
     "execution_count": 38,
     "metadata": {},
     "output_type": "execute_result"
    }
   ],
   "source": [
    "#Verifico el tipo de datos id, como es str lo convierto a int.\n",
    "type(data_movies['id'][0])"
   ]
  },
  {
   "cell_type": "code",
   "execution_count": 39,
   "metadata": {},
   "outputs": [],
   "source": [
    "data_movies['id'] = data_movies['id'].astype(int)"
   ]
  },
  {
   "cell_type": "markdown",
   "metadata": {},
   "source": [
    "# Analisis Exploratorio de los Datos (data_Credits) Inicial"
   ]
  },
  {
   "cell_type": "markdown",
   "metadata": {},
   "source": [
    "**Información de Dataset**"
   ]
  },
  {
   "cell_type": "markdown",
   "metadata": {},
   "source": [
    "**Limpieza y transformación de datos**"
   ]
  },
  {
   "cell_type": "markdown",
   "metadata": {},
   "source": [
    "Filas Duplicadas"
   ]
  },
  {
   "cell_type": "code",
   "execution_count": 40,
   "metadata": {},
   "outputs": [
    {
     "name": "stdout",
     "output_type": "stream",
     "text": [
      "<class 'pandas.core.frame.DataFrame'>\n",
      "RangeIndex: 45476 entries, 0 to 45475\n",
      "Data columns (total 3 columns):\n",
      " #   Column  Non-Null Count  Dtype \n",
      "---  ------  --------------  ----- \n",
      " 0   cast    45476 non-null  object\n",
      " 1   crew    45476 non-null  object\n",
      " 2   id      45476 non-null  int64 \n",
      "dtypes: int64(1), object(2)\n",
      "memory usage: 1.0+ MB\n"
     ]
    }
   ],
   "source": [
    "data_credits.info()"
   ]
  },
  {
   "cell_type": "code",
   "execution_count": 58,
   "metadata": {},
   "outputs": [
    {
     "data": {
      "text/html": [
       "<div>\n",
       "<style scoped>\n",
       "    .dataframe tbody tr th:only-of-type {\n",
       "        vertical-align: middle;\n",
       "    }\n",
       "\n",
       "    .dataframe tbody tr th {\n",
       "        vertical-align: top;\n",
       "    }\n",
       "\n",
       "    .dataframe thead th {\n",
       "        text-align: right;\n",
       "    }\n",
       "</style>\n",
       "<table border=\"1\" class=\"dataframe\">\n",
       "  <thead>\n",
       "    <tr style=\"text-align: right;\">\n",
       "      <th></th>\n",
       "      <th>id</th>\n",
       "      <th>cast_name</th>\n",
       "      <th>cast_name_2</th>\n",
       "      <th>cast_name_3</th>\n",
       "      <th>cast_name_4</th>\n",
       "      <th>cast_name_5</th>\n",
       "      <th>cast_name_6</th>\n",
       "      <th>cast_name_7</th>\n",
       "      <th>cast_name_8</th>\n",
       "      <th>cast_name_9</th>\n",
       "      <th>cast_name_10</th>\n",
       "      <th>director</th>\n",
       "    </tr>\n",
       "  </thead>\n",
       "  <tbody>\n",
       "    <tr>\n",
       "      <th>0</th>\n",
       "      <td>862</td>\n",
       "      <td>tom hanks</td>\n",
       "      <td>tim allen</td>\n",
       "      <td>don rickles</td>\n",
       "      <td>jim varney</td>\n",
       "      <td>wallace shawn</td>\n",
       "      <td>john ratzenberger</td>\n",
       "      <td>annie potts</td>\n",
       "      <td>john morris</td>\n",
       "      <td>erik von detten</td>\n",
       "      <td>laurie metcalf</td>\n",
       "      <td>john lasseter</td>\n",
       "    </tr>\n",
       "    <tr>\n",
       "      <th>1</th>\n",
       "      <td>8844</td>\n",
       "      <td>robin williams</td>\n",
       "      <td>jonathan hyde</td>\n",
       "      <td>kirsten dunst</td>\n",
       "      <td>bradley pierce</td>\n",
       "      <td>bonnie hunt</td>\n",
       "      <td>bebe neuwirth</td>\n",
       "      <td>david alan grier</td>\n",
       "      <td>patricia clarkson</td>\n",
       "      <td>adam hann-byrd</td>\n",
       "      <td>laura bell bundy</td>\n",
       "      <td>larry j. franco</td>\n",
       "    </tr>\n",
       "    <tr>\n",
       "      <th>2</th>\n",
       "      <td>15602</td>\n",
       "      <td>walter matthau</td>\n",
       "      <td>jack lemmon</td>\n",
       "      <td>ann-margret</td>\n",
       "      <td>sophia loren</td>\n",
       "      <td>daryl hannah</td>\n",
       "      <td>burgess meredith</td>\n",
       "      <td>kevin pollak</td>\n",
       "      <td>none</td>\n",
       "      <td>none</td>\n",
       "      <td>none</td>\n",
       "      <td>howard deutch</td>\n",
       "    </tr>\n",
       "    <tr>\n",
       "      <th>3</th>\n",
       "      <td>31357</td>\n",
       "      <td>whitney houston</td>\n",
       "      <td>angela bassett</td>\n",
       "      <td>loretta devine</td>\n",
       "      <td>lela rochon</td>\n",
       "      <td>gregory hines</td>\n",
       "      <td>dennis haysbert</td>\n",
       "      <td>michael beach</td>\n",
       "      <td>mykelti williamson</td>\n",
       "      <td>lamont johnson</td>\n",
       "      <td>wesley snipes</td>\n",
       "      <td>forest whitaker</td>\n",
       "    </tr>\n",
       "    <tr>\n",
       "      <th>4</th>\n",
       "      <td>11862</td>\n",
       "      <td>steve martin</td>\n",
       "      <td>diane keaton</td>\n",
       "      <td>martin short</td>\n",
       "      <td>kimberly williams-paisley</td>\n",
       "      <td>george newbern</td>\n",
       "      <td>kieran culkin</td>\n",
       "      <td>bd wong</td>\n",
       "      <td>peter michael goetz</td>\n",
       "      <td>kate mcgregor-stewart</td>\n",
       "      <td>jane adams</td>\n",
       "      <td>alan silvestri</td>\n",
       "    </tr>\n",
       "  </tbody>\n",
       "</table>\n",
       "</div>"
      ],
      "text/plain": [
       "      id        cast_name     cast_name_2     cast_name_3  \\\n",
       "0    862        tom hanks       tim allen     don rickles   \n",
       "1   8844   robin williams   jonathan hyde   kirsten dunst   \n",
       "2  15602   walter matthau     jack lemmon     ann-margret   \n",
       "3  31357  whitney houston  angela bassett  loretta devine   \n",
       "4  11862     steve martin    diane keaton    martin short   \n",
       "\n",
       "                 cast_name_4     cast_name_5        cast_name_6  \\\n",
       "0                 jim varney   wallace shawn  john ratzenberger   \n",
       "1             bradley pierce     bonnie hunt      bebe neuwirth   \n",
       "2               sophia loren    daryl hannah   burgess meredith   \n",
       "3                lela rochon   gregory hines    dennis haysbert   \n",
       "4  kimberly williams-paisley  george newbern      kieran culkin   \n",
       "\n",
       "        cast_name_7          cast_name_8            cast_name_9  \\\n",
       "0       annie potts          john morris        erik von detten   \n",
       "1  david alan grier    patricia clarkson         adam hann-byrd   \n",
       "2      kevin pollak                 none                   none   \n",
       "3     michael beach   mykelti williamson         lamont johnson   \n",
       "4           bd wong  peter michael goetz  kate mcgregor-stewart   \n",
       "\n",
       "       cast_name_10         director  \n",
       "0    laurie metcalf    john lasseter  \n",
       "1  laura bell bundy  larry j. franco  \n",
       "2              none    howard deutch  \n",
       "3     wesley snipes  forest whitaker  \n",
       "4        jane adams   alan silvestri  "
      ]
     },
     "execution_count": 58,
     "metadata": {},
     "output_type": "execute_result"
    }
   ],
   "source": [
    "data_credits.head()"
   ]
  },
  {
   "cell_type": "code",
   "execution_count": 41,
   "metadata": {},
   "outputs": [
    {
     "name": "stdout",
     "output_type": "stream",
     "text": [
      "El set tiene : 37  filas duplicadas\n",
      "Las filas duplicadas han sido eliminadas\n"
     ]
    }
   ],
   "source": [
    "print('El set tiene :',data_credits.duplicated().sum(),' filas duplicadas')\n",
    "data_credits = data_credits.drop_duplicates()\n",
    "print('Las filas duplicadas han sido eliminadas')"
   ]
  },
  {
   "cell_type": "code",
   "execution_count": 42,
   "metadata": {},
   "outputs": [],
   "source": [
    "#No tengo valores nulos"
   ]
  },
  {
   "cell_type": "code",
   "execution_count": 43,
   "metadata": {},
   "outputs": [
    {
     "name": "stdout",
     "output_type": "stream",
     "text": [
      "[{'cast_id': 14, 'character': 'Woody (voice)', 'credit_id': '52fe4284c3a36847f8024f95', 'gender': 2, 'id': 31, 'name': 'Tom Hanks', 'order': 0, 'profile_path': '/pQFoyx7rp09CJTAb932F2g8Nlho.jpg'}, {'cast_id': 15, 'character': 'Buzz Lightyear (voice)', 'credit_id': '52fe4284c3a36847f8024f99', 'gender': 2, 'id': 12898, 'name': 'Tim Allen', 'order': 1, 'profile_path': '/uX2xVf6pMmPepxnvFWyBtjexzgY.jpg'}, {'cast_id': 16, 'character': 'Mr. Potato Head (voice)', 'credit_id': '52fe4284c3a36847f8024f9d', 'gender': 2, 'id': 7167, 'name': 'Don Rickles', 'order': 2, 'profile_path': '/h5BcaDMPRVLHLDzbQavec4xfSdt.jpg'}, {'cast_id': 17, 'character': 'Slinky Dog (voice)', 'credit_id': '52fe4284c3a36847f8024fa1', 'gender': 2, 'id': 12899, 'name': 'Jim Varney', 'order': 3, 'profile_path': '/eIo2jVVXYgjDtaHoF19Ll9vtW7h.jpg'}, {'cast_id': 18, 'character': 'Rex (voice)', 'credit_id': '52fe4284c3a36847f8024fa5', 'gender': 2, 'id': 12900, 'name': 'Wallace Shawn', 'order': 4, 'profile_path': '/oGE6JqPP2xH4tNORKNqxbNPYi7u.jpg'}, {'cast_id': 19, 'character': 'Hamm (voice)', 'credit_id': '52fe4284c3a36847f8024fa9', 'gender': 2, 'id': 7907, 'name': 'John Ratzenberger', 'order': 5, 'profile_path': '/yGechiKWL6TJDfVE2KPSJYqdMsY.jpg'}, {'cast_id': 20, 'character': 'Bo Peep (voice)', 'credit_id': '52fe4284c3a36847f8024fad', 'gender': 1, 'id': 8873, 'name': 'Annie Potts', 'order': 6, 'profile_path': '/eryXT84RL41jHSJcMy4kS3u9y6w.jpg'}, {'cast_id': 26, 'character': 'Andy (voice)', 'credit_id': '52fe4284c3a36847f8024fc1', 'gender': 0, 'id': 1116442, 'name': 'John Morris', 'order': 7, 'profile_path': '/vYGyvK4LzeaUCoNSHtsuqJUY15M.jpg'}, {'cast_id': 22, 'character': 'Sid (voice)', 'credit_id': '52fe4284c3a36847f8024fb1', 'gender': 2, 'id': 12901, 'name': 'Erik von Detten', 'order': 8, 'profile_path': '/twnF1ZaJ1FUNUuo6xLXwcxjayBE.jpg'}, {'cast_id': 23, 'character': 'Mrs. Davis (voice)', 'credit_id': '52fe4284c3a36847f8024fb5', 'gender': 1, 'id': 12133, 'name': 'Laurie Metcalf', 'order': 9, 'profile_path': '/unMMIT60eoBM2sN2nyR7EZ2BvvD.jpg'}, {'cast_id': 24, 'character': 'Sergeant (voice)', 'credit_id': '52fe4284c3a36847f8024fb9', 'gender': 2, 'id': 8655, 'name': 'R. Lee Ermey', 'order': 10, 'profile_path': '/r8GBqFBjypLUP9VVqDqfZ7wYbSs.jpg'}, {'cast_id': 25, 'character': 'Hannah (voice)', 'credit_id': '52fe4284c3a36847f8024fbd', 'gender': 1, 'id': 12903, 'name': 'Sarah Freeman', 'order': 11, 'profile_path': None}, {'cast_id': 27, 'character': 'TV Announcer (voice)', 'credit_id': '52fe4284c3a36847f8024fc5', 'gender': 2, 'id': 37221, 'name': 'Penn Jillette', 'order': 12, 'profile_path': '/zmAaXUdx12NRsssgHbk1T31j2x9.jpg'}]\n",
      "El campo cast anida  2632  diccionarios\n",
      "[{'credit_id': '52fe4284c3a36847f8024f49', 'department': 'Directing', 'gender': 2, 'id': 7879, 'job': 'Director', 'name': 'John Lasseter', 'profile_path': '/7EdqiNbr4FRjIhKHyPPdFfEEEFG.jpg'}, {'credit_id': '52fe4284c3a36847f8024f4f', 'department': 'Writing', 'gender': 2, 'id': 12891, 'job': 'Screenplay', 'name': 'Joss Whedon', 'profile_path': '/dTiVsuaTVTeGmvkhcyJvKp2A5kr.jpg'}, {'credit_id': '52fe4284c3a36847f8024f55', 'department': 'Writing', 'gender': 2, 'id': 7, 'job': 'Screenplay', 'name': 'Andrew Stanton', 'profile_path': '/pvQWsu0qc8JFQhMVJkTHuexUAa1.jpg'}, {'credit_id': '52fe4284c3a36847f8024f5b', 'department': 'Writing', 'gender': 2, 'id': 12892, 'job': 'Screenplay', 'name': 'Joel Cohen', 'profile_path': '/dAubAiZcvKFbboWlj7oXOkZnTSu.jpg'}, {'credit_id': '52fe4284c3a36847f8024f61', 'department': 'Writing', 'gender': 0, 'id': 12893, 'job': 'Screenplay', 'name': 'Alec Sokolow', 'profile_path': '/v79vlRYi94BZUQnkkyznbGUZLjT.jpg'}, {'credit_id': '52fe4284c3a36847f8024f67', 'department': 'Production', 'gender': 1, 'id': 12894, 'job': 'Producer', 'name': 'Bonnie Arnold', 'profile_path': None}, {'credit_id': '52fe4284c3a36847f8024f6d', 'department': 'Production', 'gender': 0, 'id': 12895, 'job': 'Executive Producer', 'name': 'Ed Catmull', 'profile_path': None}, {'credit_id': '52fe4284c3a36847f8024f73', 'department': 'Production', 'gender': 2, 'id': 12896, 'job': 'Producer', 'name': 'Ralph Guggenheim', 'profile_path': None}, {'credit_id': '52fe4284c3a36847f8024f79', 'department': 'Production', 'gender': 2, 'id': 12897, 'job': 'Executive Producer', 'name': 'Steve Jobs', 'profile_path': '/mOMP3SwD5qWQSR0ldCIByd3guTV.jpg'}, {'credit_id': '52fe4284c3a36847f8024f8b', 'department': 'Editing', 'gender': 2, 'id': 8, 'job': 'Editor', 'name': 'Lee Unkrich', 'profile_path': '/bdTCCXjgOV3YyaNmLGYGOxFQMOc.jpg'}, {'credit_id': '52fe4284c3a36847f8024f91', 'department': 'Art', 'gender': 2, 'id': 7883, 'job': 'Art Direction', 'name': 'Ralph Eggleston', 'profile_path': '/uUfcGKDsKO1aROMpXRs67Hn6RvR.jpg'}, {'credit_id': '598331bf925141421201044b', 'department': 'Editing', 'gender': 2, 'id': 1168870, 'job': 'Editor', 'name': 'Robert Gordon', 'profile_path': None}, {'credit_id': '5892168cc3a36809660095f9', 'department': 'Sound', 'gender': 0, 'id': 1552883, 'job': 'Foley Editor', 'name': 'Mary Helen Leasman', 'profile_path': None}, {'credit_id': '5531824d9251415289000945', 'department': 'Visual Effects', 'gender': 0, 'id': 1453514, 'job': 'Animation', 'name': 'Kim Blanchette', 'profile_path': None}, {'credit_id': '589215969251412dcb009bf6', 'department': 'Sound', 'gender': 0, 'id': 1414182, 'job': 'ADR Editor', 'name': 'Marilyn McCoppen', 'profile_path': None}, {'credit_id': '589217099251412dc500a018', 'department': 'Sound', 'gender': 2, 'id': 7885, 'job': 'Orchestrator', 'name': 'Randy Newman', 'profile_path': '/w0JzfoiM25nrnxYOzosPHRq6mlE.jpg'}, {'credit_id': '5693e6b29251417b0e0000e3', 'department': 'Editing', 'gender': 0, 'id': 1429549, 'job': 'Color Timer', 'name': 'Dale E. Grahn', 'profile_path': None}, {'credit_id': '572e2522c3a36869e6001a9c', 'department': 'Visual Effects', 'gender': 0, 'id': 7949, 'job': 'CG Painter', 'name': 'Robin Cooper', 'profile_path': None}, {'credit_id': '574f12309251415ca1000012', 'department': 'Writing', 'gender': 2, 'id': 7879, 'job': 'Original Story', 'name': 'John Lasseter', 'profile_path': '/7EdqiNbr4FRjIhKHyPPdFfEEEFG.jpg'}, {'credit_id': '574f1240c3a3682e7300001c', 'department': 'Writing', 'gender': 2, 'id': 12890, 'job': 'Original Story', 'name': 'Pete Docter', 'profile_path': '/r6ngPgnReA3RHmKjmSoVsc6Awjp.jpg'}, {'credit_id': '574f12519251415c92000015', 'department': 'Writing', 'gender': 0, 'id': 7911, 'job': 'Original Story', 'name': 'Joe Ranft', 'profile_path': '/f1BoWC2JbCcfP1e5hKfGsxkHzVU.jpg'}, {'credit_id': '574f12cec3a3682e82000022', 'department': 'Crew', 'gender': 0, 'id': 1629419, 'job': 'Post Production Supervisor', 'name': 'Patsy Bouge', 'profile_path': None}, {'credit_id': '574f14f19251415ca1000082', 'department': 'Art', 'gender': 0, 'id': 7961, 'job': 'Sculptor', 'name': 'Norm DeCarlo', 'profile_path': None}, {'credit_id': '5751ae4bc3a3683772002b7f', 'department': 'Visual Effects', 'gender': 2, 'id': 12905, 'job': 'Animation Director', 'name': 'Ash Brannon', 'profile_path': '/6ueWgPEEBHvS3De2BHYQnYjRTig.jpg'}, {'credit_id': '5891edbe9251412dc5007cd6', 'department': 'Sound', 'gender': 2, 'id': 7885, 'job': 'Music', 'name': 'Randy Newman', 'profile_path': '/w0JzfoiM25nrnxYOzosPHRq6mlE.jpg'}, {'credit_id': '589213d39251412dc8009832', 'department': 'Directing', 'gender': 0, 'id': 1748707, 'job': 'Layout', 'name': 'Roman Figun', 'profile_path': None}, {'credit_id': '5892173dc3a3680968009351', 'department': 'Sound', 'gender': 2, 'id': 4949, 'job': 'Orchestrator', 'name': 'Don Davis', 'profile_path': None}, {'credit_id': '589217cec3a3686b0a0052ba', 'department': 'Sound', 'gender': 0, 'id': 1372885, 'job': 'Music Editor', 'name': 'James Flamberg', 'profile_path': None}, {'credit_id': '58921831c3a3686348004a64', 'department': 'Editing', 'gender': 0, 'id': 1739962, 'job': 'Negative Cutter', 'name': 'Mary Beth Smith', 'profile_path': None}, {'credit_id': '58921838c3a36809700096c0', 'department': 'Editing', 'gender': 0, 'id': 1748513, 'job': 'Negative Cutter', 'name': 'Rick Mackay', 'profile_path': None}, {'credit_id': '589218429251412dd1009d1b', 'department': 'Art', 'gender': 0, 'id': 1458006, 'job': 'Title Designer', 'name': 'Susan Bradley', 'profile_path': None}, {'credit_id': '5891ed99c3a3680966007670', 'department': 'Crew', 'gender': 0, 'id': 1748557, 'job': 'Supervising Technical Director', 'name': 'William Reeves', 'profile_path': None}, {'credit_id': '5891edcec3a3686b0a002eb2', 'department': 'Sound', 'gender': 2, 'id': 7885, 'job': 'Songs', 'name': 'Randy Newman', 'profile_path': '/w0JzfoiM25nrnxYOzosPHRq6mlE.jpg'}, {'credit_id': '5891edf9c3a36809700075e6', 'department': 'Writing', 'gender': 2, 'id': 7, 'job': 'Original Story', 'name': 'Andrew Stanton', 'profile_path': '/pvQWsu0qc8JFQhMVJkTHuexUAa1.jpg'}, {'credit_id': '58920f0b9251412dd7009104', 'department': 'Crew', 'gender': 2, 'id': 12890, 'job': 'Supervising Animator', 'name': 'Pete Docter', 'profile_path': '/r6ngPgnReA3RHmKjmSoVsc6Awjp.jpg'}, {'credit_id': '58920f1fc3a3680977009021', 'department': 'Sound', 'gender': 2, 'id': 2216, 'job': 'Sound Designer', 'name': 'Gary Rydstrom', 'profile_path': '/jZpr1nVfO7lldWI0YtmP1FGw7Rj.jpg'}, {'credit_id': '58920f389251412dd700912d', 'department': 'Production', 'gender': 0, 'id': 12909, 'job': 'Production Supervisor', 'name': 'Karen Robert Jackson', 'profile_path': None}, {'credit_id': '58920fbd9251412dcb00969c', 'department': 'Crew', 'gender': 0, 'id': 953331, 'job': 'Executive Music Producer', 'name': 'Chris Montan', 'profile_path': None}, {'credit_id': '589210069251412dd7009219', 'department': 'Visual Effects', 'gender': 0, 'id': 7893, 'job': 'Animation Director', 'name': 'Rich Quade', 'profile_path': None}, {'credit_id': '589210329251412dcd00943b', 'department': 'Visual Effects', 'gender': 0, 'id': 8025, 'job': 'Animation', 'name': 'Michael Berenstein', 'profile_path': None}, {'credit_id': '5892103bc3a368096a009180', 'department': 'Visual Effects', 'gender': 0, 'id': 78009, 'job': 'Animation', 'name': 'Colin Brady', 'profile_path': None}, {'credit_id': '5892105dc3a3680968008db2', 'department': 'Visual Effects', 'gender': 0, 'id': 1748682, 'job': 'Animation', 'name': 'Davey Crockett Feiten', 'profile_path': None}, {'credit_id': '589210669251412dcd009466', 'department': 'Visual Effects', 'gender': 0, 'id': 1454030, 'job': 'Animation', 'name': 'Angie Glocka', 'profile_path': None}, {'credit_id': '5892107c9251412dd1009613', 'department': 'Visual Effects', 'gender': 0, 'id': 1748683, 'job': 'Animation', 'name': 'Rex Grignon', 'profile_path': None}, {'credit_id': '5892108ac3a3680973008d3f', 'department': 'Visual Effects', 'gender': 0, 'id': 1748684, 'job': 'Animation', 'name': 'Tom K. Gurney', 'profile_path': None}, {'credit_id': '58921093c3a3686348004477', 'department': 'Visual Effects', 'gender': 2, 'id': 8029, 'job': 'Animation', 'name': 'Jimmy Hayward', 'profile_path': '/lTDRpudEY7BDwTefXbXzMlmb0ui.jpg'}, {'credit_id': '5892109b9251412dcd0094b0', 'department': 'Visual Effects', 'gender': 0, 'id': 1426773, 'job': 'Animation', 'name': 'Hal T. Hickel', 'profile_path': None}, {'credit_id': '589210a29251412dc5009a29', 'department': 'Visual Effects', 'gender': 0, 'id': 8035, 'job': 'Animation', 'name': 'Karen Kiser', 'profile_path': None}, {'credit_id': '589210ccc3a3680977009191', 'department': 'Visual Effects', 'gender': 0, 'id': 1748688, 'job': 'Animation', 'name': 'Anthony B. LaMolinara', 'profile_path': None}, {'credit_id': '589210d7c3a3686b0a004c1f', 'department': 'Visual Effects', 'gender': 0, 'id': 587314, 'job': 'Animation', 'name': 'Guionne Leroy', 'profile_path': None}, {'credit_id': '589210e1c3a36809770091a7', 'department': 'Visual Effects', 'gender': 2, 'id': 7918, 'job': 'Animation', 'name': 'Bud Luckey', 'profile_path': '/pcCh7G19FKMNijmPQg1PMH1btic.jpg'}, {'credit_id': '589210ee9251412dc200978a', 'department': 'Visual Effects', 'gender': 0, 'id': 1748689, 'job': 'Animation', 'name': 'Les Major', 'profile_path': None}, {'credit_id': '589210fa9251412dc8009595', 'department': 'Visual Effects', 'gender': 2, 'id': 7892, 'job': 'Animation', 'name': 'Glenn McQueen', 'profile_path': None}, {'credit_id': '589211029251412dc8009598', 'department': 'Visual Effects', 'gender': 0, 'id': 555795, 'job': 'Animation', 'name': 'Mark Oftedal', 'profile_path': None}, {'credit_id': '5892110b9251412dc800959d', 'department': 'Visual Effects', 'gender': 2, 'id': 7882, 'job': 'Animation', 'name': 'Jeff Pidgeon', 'profile_path': '/yLddkg5HcgbJg00cS13GVBnP0HY.jpg'}, {'credit_id': '58921113c3a36863480044e4', 'department': 'Visual Effects', 'gender': 0, 'id': 8017, 'job': 'Animation', 'name': 'Jeff Pratt', 'profile_path': None}, {'credit_id': '5892111c9251412dcb0097e9', 'department': 'Visual Effects', 'gender': 0, 'id': 1184140, 'job': 'Animation', 'name': 'Steve Rabatich', 'profile_path': None}, {'credit_id': '58921123c3a36809700090f6', 'department': 'Visual Effects', 'gender': 0, 'id': 8049, 'job': 'Animation', 'name': 'Roger Rose', 'profile_path': None}, {'credit_id': '5892112b9251412dcb0097fb', 'department': 'Visual Effects', 'gender': 0, 'id': 1509559, 'job': 'Animation', 'name': 'Steve Segal', 'profile_path': None}, {'credit_id': '589211349251412dc80095c3', 'department': 'Visual Effects', 'gender': 0, 'id': 1748691, 'job': 'Animation', 'name': 'Doug Sheppeck', 'profile_path': None}, {'credit_id': '5892113cc3a3680970009106', 'department': 'Visual Effects', 'gender': 0, 'id': 8050, 'job': 'Animation', 'name': 'Alan Sperling', 'profile_path': None}, {'credit_id': '58921148c3a3686b0a004c99', 'department': 'Visual Effects', 'gender': 0, 'id': 8010, 'job': 'Animation', 'name': 'Doug Sweetland', 'profile_path': None}, {'credit_id': '58921150c3a3680966009125', 'department': 'Visual Effects', 'gender': 0, 'id': 8044, 'job': 'Animation', 'name': 'David Tart', 'profile_path': None}, {'credit_id': '589211629251412dc5009b00', 'department': 'Visual Effects', 'gender': 0, 'id': 1454034, 'job': 'Animation', 'name': 'Ken Willard', 'profile_path': None}, {'credit_id': '589211c1c3a3686b0a004d28', 'department': 'Visual Effects', 'gender': 0, 'id': 7887, 'job': 'Visual Effects Supervisor', 'name': 'Thomas Porter', 'profile_path': None}, {'credit_id': '589211d4c3a3680968008ed9', 'department': 'Visual Effects', 'gender': 0, 'id': 1406878, 'job': 'Visual Effects', 'name': 'Mark Thomas Henne', 'profile_path': None}, {'credit_id': '589211f59251412dd4008e65', 'department': 'Visual Effects', 'gender': 0, 'id': 1748698, 'job': 'Visual Effects', 'name': 'Oren Jacob', 'profile_path': None}, {'credit_id': '58921242c3a368096a00939b', 'department': 'Visual Effects', 'gender': 0, 'id': 1748699, 'job': 'Visual Effects', 'name': 'Darwyn Peachey', 'profile_path': None}, {'credit_id': '5892124b9251412dc5009bd2', 'department': 'Visual Effects', 'gender': 0, 'id': 1748701, 'job': 'Visual Effects', 'name': 'Mitch Prater', 'profile_path': None}, {'credit_id': '58921264c3a3686b0a004dbf', 'department': 'Visual Effects', 'gender': 0, 'id': 1748703, 'job': 'Visual Effects', 'name': 'Brian M. Rosen', 'profile_path': None}, {'credit_id': '589212709251412dcd009676', 'department': 'Lighting', 'gender': 1, 'id': 12912, 'job': 'Lighting Supervisor', 'name': 'Sharon Calahan', 'profile_path': None}, {'credit_id': '5892127fc3a3686b0a004de5', 'department': 'Lighting', 'gender': 0, 'id': 7899, 'job': 'Lighting Supervisor', 'name': 'Galyn Susman', 'profile_path': None}, {'credit_id': '589212cdc3a3680970009268', 'department': 'Visual Effects', 'gender': 0, 'id': 12915, 'job': 'CG Painter', 'name': 'William Cone', 'profile_path': None}, {'credit_id': '5892130f9251412dc8009791', 'department': 'Art', 'gender': 0, 'id': 1748705, 'job': 'Sculptor', 'name': 'Shelley Daniels Lekven', 'profile_path': None}, {'credit_id': '5892131c9251412dd4008f4c', 'department': 'Visual Effects', 'gender': 2, 'id': 7889, 'job': 'Character Designer', 'name': 'Bob Pauley', 'profile_path': None}, {'credit_id': '589213249251412dd100987b', 'department': 'Visual Effects', 'gender': 2, 'id': 7918, 'job': 'Character Designer', 'name': 'Bud Luckey', 'profile_path': '/pcCh7G19FKMNijmPQg1PMH1btic.jpg'}, {'credit_id': '5892132b9251412dc80097b1', 'department': 'Visual Effects', 'gender': 2, 'id': 7, 'job': 'Character Designer', 'name': 'Andrew Stanton', 'profile_path': '/pvQWsu0qc8JFQhMVJkTHuexUAa1.jpg'}, {'credit_id': '58921332c3a368634800467b', 'department': 'Visual Effects', 'gender': 0, 'id': 12915, 'job': 'Character Designer', 'name': 'William Cone', 'profile_path': None}, {'credit_id': '5892135f9251412dd4008f90', 'department': 'Visual Effects', 'gender': 0, 'id': 1748706, 'job': 'Character Designer', 'name': 'Steve Johnson', 'profile_path': None}, {'credit_id': '58921384c3a3680973008fd4', 'department': 'Visual Effects', 'gender': 0, 'id': 1176752, 'job': 'Character Designer', 'name': 'Dan Haskett', 'profile_path': None}, {'credit_id': '5892138e9251412dc20099fc', 'department': 'Visual Effects', 'gender': 0, 'id': 1088034, 'job': 'Character Designer', 'name': 'Tom Holloway', 'profile_path': '/a0r0T2usTBpgMI5aZbRBDW1fTl8.jpg'}, {'credit_id': '58921395c3a368097700942f', 'department': 'Visual Effects', 'gender': 0, 'id': 1447465, 'job': 'Character Designer', 'name': 'Jean Gillmore', 'profile_path': None}, {'credit_id': '589213e2c3a3680973009026', 'department': 'Directing', 'gender': 0, 'id': 1748709, 'job': 'Layout', 'name': 'Desirée Mourad', 'profile_path': None}, {'credit_id': '589214099251412dc5009d57', 'department': 'Art', 'gender': 0, 'id': 1748710, 'job': 'Set Dresser', 'name': \"Kelly O'Connell\", 'profile_path': None}, {'credit_id': '58921411c3a3686b0a004f70', 'department': 'Art', 'gender': 0, 'id': 1443471, 'job': 'Set Dresser', 'name': 'Sonoko Konishi', 'profile_path': None}, {'credit_id': '58921434c3a368096a00956e', 'department': 'Art', 'gender': 0, 'id': 1748711, 'job': 'Set Dresser', 'name': 'Ann M. Rockwell', 'profile_path': None}, {'credit_id': '5892144ac3a36809680090de', 'department': 'Editing', 'gender': 0, 'id': 1748712, 'job': 'Editorial Manager', 'name': 'Julie M. McDonald', 'profile_path': None}, {'credit_id': '58921479c3a368096800910f', 'department': 'Editing', 'gender': 0, 'id': 1589729, 'job': 'Assistant Editor', 'name': 'Robin Lee', 'profile_path': None}, {'credit_id': '5892148b9251412dd10099cc', 'department': 'Editing', 'gender': 0, 'id': 1748716, 'job': 'Assistant Editor', 'name': 'Tom Freeman', 'profile_path': None}, {'credit_id': '589214959251412dcb009b1f', 'department': 'Editing', 'gender': 0, 'id': 1748717, 'job': 'Assistant Editor', 'name': 'Ada Cochavi', 'profile_path': None}, {'credit_id': '5892149ec3a3686348004798', 'department': 'Editing', 'gender': 0, 'id': 1336438, 'job': 'Assistant Editor', 'name': 'Dana Mulligan', 'profile_path': None}, {'credit_id': '589214adc3a368096a0095db', 'department': 'Editing', 'gender': 0, 'id': 1748718, 'job': 'Editorial Coordinator', 'name': 'Deirdre Morrison', 'profile_path': None}, {'credit_id': '589214c7c3a368097700952b', 'department': 'Production', 'gender': 0, 'id': 1748719, 'job': 'Production Coordinator', 'name': 'Lori Lombardo', 'profile_path': None}, {'credit_id': '589214cec3a368096a009603', 'department': 'Production', 'gender': 0, 'id': 1748720, 'job': 'Production Coordinator', 'name': 'Ellen Devine', 'profile_path': None}, {'credit_id': '589214e39251412dc8009904', 'department': 'Crew', 'gender': 0, 'id': 1468014, 'job': 'Unit Publicist', 'name': 'Lauren Beth Strogoff', 'profile_path': None}, {'credit_id': '58921544c3a3686b0a00507d', 'department': 'Sound', 'gender': 2, 'id': 2216, 'job': 'Sound Re-Recording Mixer', 'name': 'Gary Rydstrom', 'profile_path': '/jZpr1nVfO7lldWI0YtmP1FGw7Rj.jpg'}, {'credit_id': '5892154c9251412dd1009a56', 'department': 'Sound', 'gender': 0, 'id': 1425978, 'job': 'Sound Re-Recording Mixer', 'name': 'Gary Summers', 'profile_path': None}, {'credit_id': '58921555c3a36809680091bd', 'department': 'Sound', 'gender': 2, 'id': 8276, 'job': 'Supervising Sound Editor', 'name': 'Tim Holland', 'profile_path': None}, {'credit_id': '589215c39251412dcb009c12', 'department': 'Sound', 'gender': 0, 'id': 7069, 'job': 'Sound Effects Editor', 'name': 'Pat Jackson', 'profile_path': None}, {'credit_id': '58921698c3a368096a009788', 'department': 'Crew', 'gender': 2, 'id': 15894, 'job': 'Sound Design Assistant', 'name': 'Tom Myers', 'profile_path': None}, {'credit_id': '589216a89251412dc2009ca4', 'department': 'Sound', 'gender': 0, 'id': 1414177, 'job': 'Assistant Sound Editor', 'name': 'J.R. Grubbs', 'profile_path': None}, {'credit_id': '589216c19251412dc2009cb9', 'department': 'Sound', 'gender': 1, 'id': 1748724, 'job': 'Assistant Sound Editor', 'name': 'Susan Sanford', 'profile_path': None}, {'credit_id': '589216ccc3a3680973009274', 'department': 'Sound', 'gender': 0, 'id': 1748725, 'job': 'Assistant Sound Editor', 'name': 'Susan Popovic', 'profile_path': None}, {'credit_id': '589216d79251412dc8009aa0', 'department': 'Sound', 'gender': 0, 'id': 8067, 'job': 'Assistant Sound Editor', 'name': 'Dan Engstrom', 'profile_path': None}, {'credit_id': '589216e49251412dcd009a4f', 'department': 'Production', 'gender': 1, 'id': 7902, 'job': 'Casting Consultant', 'name': 'Ruth Lambert', 'profile_path': None}, {'credit_id': '589216f39251412dc2009cf3', 'department': 'Production', 'gender': 0, 'id': 84493, 'job': 'ADR Voice Casting', 'name': 'Mickie McGowan', 'profile_path': '/k7TjJBfINsg8vLQxJwos6XObAD6.jpg'}]\n",
      "El campo crew anida 18654  diccionarios.\n"
     ]
    }
   ],
   "source": [
    "#Verifico la información de cada anidado\n",
    "print(data_credits['cast'][0])\n",
    "print('El campo cast anida ',len(data_credits['cast'][0]),' diccionarios')\n",
    "print(data_credits['crew'][0])\n",
    "print('El campo crew anida',len(data_credits['crew'][0]), ' diccionarios.')"
   ]
  },
  {
   "cell_type": "markdown",
   "metadata": {},
   "source": [
    "Desanidar la información de las columnas"
   ]
  },
  {
   "cell_type": "code",
   "execution_count": 44,
   "metadata": {},
   "outputs": [],
   "source": [
    "# convierto la información de las columnas anidadas de str a lista de diccionarios\n",
    "data_credits['cast'] = data_credits['cast'].apply(ast.literal_eval)\n",
    "data_credits['crew'] = data_credits['crew'].apply(ast.literal_eval)"
   ]
  },
  {
   "cell_type": "code",
   "execution_count": 45,
   "metadata": {},
   "outputs": [],
   "source": [
    "# Función para extraer los actores. \n",
    "\n",
    "def extrae_cast(val):\n",
    "    if len(val) > 0:\n",
    "        cast_name = val[0].get('name')\n",
    "    else:\n",
    "        cast_name = None\n",
    "    \n",
    "    if len(val) > 1:\n",
    "        cast_name_2 = val[1].get('name')\n",
    "    else:\n",
    "        cast_name_2 = None\n",
    "    \n",
    "    if len(val) > 2:\n",
    "        cast_name_3 = val[2].get('name')\n",
    "    else:\n",
    "        cast_name_3 = None\n",
    "    \n",
    "    if len(val) > 3:\n",
    "        cast_name_4 = val[3].get('name')\n",
    "    else:\n",
    "        cast_name_4 = None\n",
    "    \n",
    "    if len(val) > 4:\n",
    "        cast_name_5 = val[4].get('name')\n",
    "    else:\n",
    "        cast_name_5 = None\n",
    "    \n",
    "    if len(val) > 5:\n",
    "        cast_name_6 = val[5].get('name')\n",
    "    else:\n",
    "        cast_name_6 = None\n",
    "    \n",
    "    if len(val) > 6:\n",
    "        cast_name_7 = val[6].get('name')\n",
    "    else:\n",
    "        cast_name_7 = None\n",
    "    \n",
    "    if len(val) > 7:\n",
    "        cast_name_8 = val[7].get('name')\n",
    "    else:\n",
    "        cast_name_8 = None\n",
    "    \n",
    "    if len(val) > 8:\n",
    "        cast_name_9 = val[8].get('name')\n",
    "    else:\n",
    "        cast_name_9 = None\n",
    "    \n",
    "    if len(val) > 9:\n",
    "        cast_name_10 = val[9].get('name')\n",
    "    else:\n",
    "        cast_name_10 = None\n",
    "    \n",
    "    if len(val) > 10:\n",
    "        cast_name_11 = val[10].get('name')\n",
    "    else:\n",
    "        cast_name_11 = None\n",
    "\n",
    "    if len(val) > 11:\n",
    "        cast_name_12 = val[11].get('name')\n",
    "    else:\n",
    "        cast_name_12 = None\n",
    "    \n",
    "    if len(val) > 12:\n",
    "        cast_name_13 = val[12].get('name')\n",
    "    else:\n",
    "        cast_name_13 = None\n",
    " \n",
    "    return pd.Series([cast_name,\n",
    "                      cast_name_2,\n",
    "                      cast_name_3,\n",
    "                      cast_name_4,\n",
    "                      cast_name_5,\n",
    "                      cast_name_6,\n",
    "                      cast_name_7,\n",
    "                      cast_name_8,\n",
    "                      cast_name_9,\n",
    "                      cast_name_10,\n",
    "                      cast_name_11,\n",
    "                      cast_name_12,\n",
    "                      cast_name_13])\n",
    "\n",
    "data_credits[['cast_name',\n",
    "            'cast_name_2',\n",
    "            'cast_name_3',\n",
    "            'cast_name_4',\n",
    "            'cast_name_5',\n",
    "            'cast_name_6',\n",
    "            'cast_name_7',\n",
    "            'cast_name_8',\n",
    "            'cast_name_9',\n",
    "            'cast_name_10',\n",
    "            'cast_name_11',\n",
    "            'cast_name_12',\n",
    "            'cast_name_13']] = data_credits['cast'].apply(extrae_cast)  #aplico la funcion extraer los datos de cast\n"
   ]
  },
  {
   "cell_type": "code",
   "execution_count": 46,
   "metadata": {},
   "outputs": [
    {
     "name": "stdout",
     "output_type": "stream",
     "text": [
      "<class 'pandas.core.frame.DataFrame'>\n",
      "Index: 45439 entries, 0 to 45475\n",
      "Data columns (total 16 columns):\n",
      " #   Column        Non-Null Count  Dtype \n",
      "---  ------        --------------  ----- \n",
      " 0   cast          45439 non-null  object\n",
      " 1   crew          45439 non-null  object\n",
      " 2   id            45439 non-null  int64 \n",
      " 3   cast_name     43025 non-null  object\n",
      " 4   cast_name_2   41694 non-null  object\n",
      " 5   cast_name_3   40785 non-null  object\n",
      " 6   cast_name_4   39653 non-null  object\n",
      " 7   cast_name_5   37181 non-null  object\n",
      " 8   cast_name_6   34497 non-null  object\n",
      " 9   cast_name_7   31806 non-null  object\n",
      " 10  cast_name_8   29054 non-null  object\n",
      " 11  cast_name_9   26288 non-null  object\n",
      " 12  cast_name_10  23709 non-null  object\n",
      " 13  cast_name_11  20906 non-null  object\n",
      " 14  cast_name_12  18602 non-null  object\n",
      " 15  cast_name_13  16545 non-null  object\n",
      "dtypes: int64(1), object(15)\n",
      "memory usage: 6.9+ MB\n"
     ]
    }
   ],
   "source": [
    "#Verifico que me halla quedado correctamente desanidada.\n",
    "#No tengo valores nulos\n",
    "data_credits.info()"
   ]
  },
  {
   "cell_type": "code",
   "execution_count": 47,
   "metadata": {},
   "outputs": [
    {
     "data": {
      "text/html": [
       "<div>\n",
       "<style scoped>\n",
       "    .dataframe tbody tr th:only-of-type {\n",
       "        vertical-align: middle;\n",
       "    }\n",
       "\n",
       "    .dataframe tbody tr th {\n",
       "        vertical-align: top;\n",
       "    }\n",
       "\n",
       "    .dataframe thead th {\n",
       "        text-align: right;\n",
       "    }\n",
       "</style>\n",
       "<table border=\"1\" class=\"dataframe\">\n",
       "  <thead>\n",
       "    <tr style=\"text-align: right;\">\n",
       "      <th></th>\n",
       "      <th>cast</th>\n",
       "      <th>crew</th>\n",
       "      <th>id</th>\n",
       "      <th>cast_name</th>\n",
       "      <th>cast_name_2</th>\n",
       "      <th>cast_name_3</th>\n",
       "      <th>cast_name_4</th>\n",
       "      <th>cast_name_5</th>\n",
       "      <th>cast_name_6</th>\n",
       "      <th>cast_name_7</th>\n",
       "      <th>cast_name_8</th>\n",
       "      <th>cast_name_9</th>\n",
       "      <th>cast_name_10</th>\n",
       "      <th>cast_name_11</th>\n",
       "      <th>cast_name_12</th>\n",
       "      <th>cast_name_13</th>\n",
       "    </tr>\n",
       "  </thead>\n",
       "  <tbody>\n",
       "    <tr>\n",
       "      <th>0</th>\n",
       "      <td>[{'cast_id': 14, 'character': 'Woody (voice)',...</td>\n",
       "      <td>[{'credit_id': '52fe4284c3a36847f8024f49', 'de...</td>\n",
       "      <td>862</td>\n",
       "      <td>Tom Hanks</td>\n",
       "      <td>Tim Allen</td>\n",
       "      <td>Don Rickles</td>\n",
       "      <td>Jim Varney</td>\n",
       "      <td>Wallace Shawn</td>\n",
       "      <td>John Ratzenberger</td>\n",
       "      <td>Annie Potts</td>\n",
       "      <td>John Morris</td>\n",
       "      <td>Erik von Detten</td>\n",
       "      <td>Laurie Metcalf</td>\n",
       "      <td>R. Lee Ermey</td>\n",
       "      <td>Sarah Freeman</td>\n",
       "      <td>Penn Jillette</td>\n",
       "    </tr>\n",
       "    <tr>\n",
       "      <th>1</th>\n",
       "      <td>[{'cast_id': 1, 'character': 'Alan Parrish', '...</td>\n",
       "      <td>[{'credit_id': '52fe44bfc3a36847f80a7cd1', 'de...</td>\n",
       "      <td>8844</td>\n",
       "      <td>Robin Williams</td>\n",
       "      <td>Jonathan Hyde</td>\n",
       "      <td>Kirsten Dunst</td>\n",
       "      <td>Bradley Pierce</td>\n",
       "      <td>Bonnie Hunt</td>\n",
       "      <td>Bebe Neuwirth</td>\n",
       "      <td>David Alan Grier</td>\n",
       "      <td>Patricia Clarkson</td>\n",
       "      <td>Adam Hann-Byrd</td>\n",
       "      <td>Laura Bell Bundy</td>\n",
       "      <td>James Handy</td>\n",
       "      <td>Gillian Barber</td>\n",
       "      <td>Brandon Obray</td>\n",
       "    </tr>\n",
       "    <tr>\n",
       "      <th>2</th>\n",
       "      <td>[{'cast_id': 2, 'character': 'Max Goldman', 'c...</td>\n",
       "      <td>[{'credit_id': '52fe466a9251416c75077a89', 'de...</td>\n",
       "      <td>15602</td>\n",
       "      <td>Walter Matthau</td>\n",
       "      <td>Jack Lemmon</td>\n",
       "      <td>Ann-Margret</td>\n",
       "      <td>Sophia Loren</td>\n",
       "      <td>Daryl Hannah</td>\n",
       "      <td>Burgess Meredith</td>\n",
       "      <td>Kevin Pollak</td>\n",
       "      <td>None</td>\n",
       "      <td>None</td>\n",
       "      <td>None</td>\n",
       "      <td>None</td>\n",
       "      <td>None</td>\n",
       "      <td>None</td>\n",
       "    </tr>\n",
       "    <tr>\n",
       "      <th>3</th>\n",
       "      <td>[{'cast_id': 1, 'character': 'Savannah 'Vannah...</td>\n",
       "      <td>[{'credit_id': '52fe44779251416c91011acb', 'de...</td>\n",
       "      <td>31357</td>\n",
       "      <td>Whitney Houston</td>\n",
       "      <td>Angela Bassett</td>\n",
       "      <td>Loretta Devine</td>\n",
       "      <td>Lela Rochon</td>\n",
       "      <td>Gregory Hines</td>\n",
       "      <td>Dennis Haysbert</td>\n",
       "      <td>Michael Beach</td>\n",
       "      <td>Mykelti Williamson</td>\n",
       "      <td>Lamont Johnson</td>\n",
       "      <td>Wesley Snipes</td>\n",
       "      <td>None</td>\n",
       "      <td>None</td>\n",
       "      <td>None</td>\n",
       "    </tr>\n",
       "    <tr>\n",
       "      <th>4</th>\n",
       "      <td>[{'cast_id': 1, 'character': 'George Banks', '...</td>\n",
       "      <td>[{'credit_id': '52fe44959251416c75039ed7', 'de...</td>\n",
       "      <td>11862</td>\n",
       "      <td>Steve Martin</td>\n",
       "      <td>Diane Keaton</td>\n",
       "      <td>Martin Short</td>\n",
       "      <td>Kimberly Williams-Paisley</td>\n",
       "      <td>George Newbern</td>\n",
       "      <td>Kieran Culkin</td>\n",
       "      <td>BD Wong</td>\n",
       "      <td>Peter Michael Goetz</td>\n",
       "      <td>Kate McGregor-Stewart</td>\n",
       "      <td>Jane Adams</td>\n",
       "      <td>Eugene Levy</td>\n",
       "      <td>Lori Alan</td>\n",
       "      <td>None</td>\n",
       "    </tr>\n",
       "  </tbody>\n",
       "</table>\n",
       "</div>"
      ],
      "text/plain": [
       "                                                cast  \\\n",
       "0  [{'cast_id': 14, 'character': 'Woody (voice)',...   \n",
       "1  [{'cast_id': 1, 'character': 'Alan Parrish', '...   \n",
       "2  [{'cast_id': 2, 'character': 'Max Goldman', 'c...   \n",
       "3  [{'cast_id': 1, 'character': 'Savannah 'Vannah...   \n",
       "4  [{'cast_id': 1, 'character': 'George Banks', '...   \n",
       "\n",
       "                                                crew     id        cast_name  \\\n",
       "0  [{'credit_id': '52fe4284c3a36847f8024f49', 'de...    862        Tom Hanks   \n",
       "1  [{'credit_id': '52fe44bfc3a36847f80a7cd1', 'de...   8844   Robin Williams   \n",
       "2  [{'credit_id': '52fe466a9251416c75077a89', 'de...  15602   Walter Matthau   \n",
       "3  [{'credit_id': '52fe44779251416c91011acb', 'de...  31357  Whitney Houston   \n",
       "4  [{'credit_id': '52fe44959251416c75039ed7', 'de...  11862     Steve Martin   \n",
       "\n",
       "      cast_name_2     cast_name_3                cast_name_4     cast_name_5  \\\n",
       "0       Tim Allen     Don Rickles                 Jim Varney   Wallace Shawn   \n",
       "1   Jonathan Hyde   Kirsten Dunst             Bradley Pierce     Bonnie Hunt   \n",
       "2     Jack Lemmon     Ann-Margret               Sophia Loren    Daryl Hannah   \n",
       "3  Angela Bassett  Loretta Devine                Lela Rochon   Gregory Hines   \n",
       "4    Diane Keaton    Martin Short  Kimberly Williams-Paisley  George Newbern   \n",
       "\n",
       "         cast_name_6       cast_name_7          cast_name_8  \\\n",
       "0  John Ratzenberger       Annie Potts          John Morris   \n",
       "1      Bebe Neuwirth  David Alan Grier    Patricia Clarkson   \n",
       "2   Burgess Meredith      Kevin Pollak                 None   \n",
       "3    Dennis Haysbert     Michael Beach   Mykelti Williamson   \n",
       "4      Kieran Culkin           BD Wong  Peter Michael Goetz   \n",
       "\n",
       "             cast_name_9      cast_name_10  cast_name_11    cast_name_12  \\\n",
       "0        Erik von Detten    Laurie Metcalf  R. Lee Ermey   Sarah Freeman   \n",
       "1         Adam Hann-Byrd  Laura Bell Bundy   James Handy  Gillian Barber   \n",
       "2                   None              None          None            None   \n",
       "3         Lamont Johnson     Wesley Snipes          None            None   \n",
       "4  Kate McGregor-Stewart        Jane Adams   Eugene Levy       Lori Alan   \n",
       "\n",
       "    cast_name_13  \n",
       "0  Penn Jillette  \n",
       "1  Brandon Obray  \n",
       "2           None  \n",
       "3           None  \n",
       "4           None  "
      ]
     },
     "execution_count": 47,
     "metadata": {},
     "output_type": "execute_result"
    }
   ],
   "source": [
    "data_credits.head()"
   ]
  },
  {
   "cell_type": "code",
   "execution_count": 48,
   "metadata": {},
   "outputs": [
    {
     "name": "stdout",
     "output_type": "stream",
     "text": [
      "Valores nulos en la columna cast_name_1:  2414 es decir el 5.3126169149849245 % de los datos son nulos\n",
      "Valores nulos en la columna cast_name_2:  3745 es decir el 8.241818701996083 % de los datos son nulos\n",
      "Valores nulos en la columna cast_name_3:  4654 es decir el 10.242302867580714 % de los datos son nulos\n",
      "Valores nulos en la columna cast_name_4:  5786 es decir el 12.733554875767513 % de los datos son nulos\n",
      "Valores nulos en la columna cast_name_5:  8258 es decir el 18.17381544488215 % de los datos son nulos\n",
      "Valores nulos en la columna cast_name_6:  10942 es decir el 24.08063557736746 % de los datos son nulos\n",
      "Valores nulos en la columna cast_name_7:  13633 es decir el 30.00286097845463 % de los datos son nulos\n",
      "Valores nulos en la columna cast_name_8:  16385 es decir el 36.05933229164374 % de los datos son nulos\n",
      "Valores nulos en la columna cast_name_9:  19151 es decir el 42.146614142036576 % de los datos son nulos\n",
      "Valores nulos en la columna cast_name_10:  21730 es decir el 47.82235524549396 % de los datos son nulos\n",
      "Valores nulos en la columna cast_name_11:  24533 es decir el 53.99106494421092 % de los datos son nulos\n",
      "Valores nulos en la columna cast_name_12:  26837 es decir el 59.06159906688087 % de los datos son nulos\n",
      "Valores nulos en la columna cast_name_13:  28894 es decir el 63.58854728317085 % de los datos son nulos\n"
     ]
    }
   ],
   "source": [
    "print('Valores nulos en la columna cast_name_1: ',data_credits['cast_name'].isnull().sum(), 'es decir el',(data_credits['cast_name'].isnull().sum() / len(data_credits['cast_name']))*100,'% de los datos son nulos')\n",
    "print('Valores nulos en la columna cast_name_2: ',data_credits['cast_name_2'].isnull().sum(), 'es decir el',(data_credits['cast_name_2'].isnull().sum() / len(data_credits['cast_name']))*100,'% de los datos son nulos')\n",
    "print('Valores nulos en la columna cast_name_3: ',data_credits['cast_name_3'].isnull().sum(), 'es decir el',(data_credits['cast_name_3'].isnull().sum() / len(data_credits['cast_name']))*100,'% de los datos son nulos')\n",
    "print('Valores nulos en la columna cast_name_4: ',data_credits['cast_name_4'].isnull().sum(), 'es decir el',(data_credits['cast_name_4'].isnull().sum() / len(data_credits['cast_name']))*100,'% de los datos son nulos')\n",
    "print('Valores nulos en la columna cast_name_5: ',data_credits['cast_name_5'].isnull().sum(), 'es decir el',(data_credits['cast_name_5'].isnull().sum() / len(data_credits['cast_name']))*100,'% de los datos son nulos')\n",
    "print('Valores nulos en la columna cast_name_6: ',data_credits['cast_name_6'].isnull().sum(), 'es decir el',(data_credits['cast_name_6'].isnull().sum() / len(data_credits['cast_name']))*100,'% de los datos son nulos')\n",
    "print('Valores nulos en la columna cast_name_7: ',data_credits['cast_name_7'].isnull().sum(), 'es decir el',(data_credits['cast_name_7'].isnull().sum() / len(data_credits['cast_name']))*100,'% de los datos son nulos')\n",
    "print('Valores nulos en la columna cast_name_8: ',data_credits['cast_name_8'].isnull().sum(), 'es decir el',(data_credits['cast_name_8'].isnull().sum() / len(data_credits['cast_name']))*100,'% de los datos son nulos')\n",
    "print('Valores nulos en la columna cast_name_9: ',data_credits['cast_name_9'].isnull().sum(), 'es decir el',(data_credits['cast_name_9'].isnull().sum() / len(data_credits['cast_name']))*100,'% de los datos son nulos')\n",
    "print('Valores nulos en la columna cast_name_10: ',data_credits['cast_name_10'].isnull().sum(), 'es decir el',(data_credits['cast_name_10'].isnull().sum() / len(data_credits['cast_name']))*100,'% de los datos son nulos')\n",
    "print('Valores nulos en la columna cast_name_11: ',data_credits['cast_name_11'].isnull().sum(), 'es decir el',(data_credits['cast_name_11'].isnull().sum() / len(data_credits['cast_name']))*100,'% de los datos son nulos')\n",
    "print('Valores nulos en la columna cast_name_12: ',data_credits['cast_name_12'].isnull().sum(), 'es decir el',(data_credits['cast_name_12'].isnull().sum() / len(data_credits['cast_name']))*100,'% de los datos son nulos')\n",
    "print('Valores nulos en la columna cast_name_13: ',data_credits['cast_name_13'].isnull().sum(), 'es decir el',(data_credits['cast_name_13'].isnull().sum() / len(data_credits['cast_name']))*100,'% de los datos son nulos')"
   ]
  },
  {
   "cell_type": "code",
   "execution_count": 49,
   "metadata": {},
   "outputs": [],
   "source": [
    "#Elimino la columna original y las columnas con maa del 50% de datos nulos\n",
    "data_credits = data_credits.drop(axis=1,columns=['cast'])\n",
    "data_credits = data_credits.drop(axis=1,columns=['cast_name_11'])\n",
    "data_credits = data_credits.drop(axis=1,columns=['cast_name_12'])\n",
    "data_credits = data_credits.drop(axis=1,columns=['cast_name_13'])"
   ]
  },
  {
   "cell_type": "code",
   "execution_count": 50,
   "metadata": {},
   "outputs": [],
   "source": [
    "# Función para extraer los directores. \n",
    "\n",
    "def extrae_crew(val):\n",
    "    if len(val) > 0:\n",
    "        director = val[0].get('name')\n",
    "    else:\n",
    "        director = None\n",
    "    \n",
    "    return pd.Series([director])\n",
    "\n",
    "data_credits[['director']] = data_credits['crew'].apply(extrae_crew)"
   ]
  },
  {
   "cell_type": "code",
   "execution_count": 51,
   "metadata": {},
   "outputs": [
    {
     "name": "stdout",
     "output_type": "stream",
     "text": [
      "Valores nulos en la columna director son:  771 es decir el 1.696780298862211 % de los datos son nulos\n"
     ]
    }
   ],
   "source": [
    "print('Valores nulos en la columna director son: ',data_credits['director'].isnull().sum(), 'es decir el',(data_credits['director'].isnull().sum() / len(data_credits['crew']))*100,'% de los datos son nulos')"
   ]
  },
  {
   "cell_type": "code",
   "execution_count": 52,
   "metadata": {},
   "outputs": [],
   "source": [
    "#Elimino la columna original\n",
    "data_credits = data_credits.drop(axis=1,columns=['crew'])"
   ]
  },
  {
   "cell_type": "code",
   "execution_count": 53,
   "metadata": {},
   "outputs": [],
   "source": [
    "Lista_columnas2 =['cast_name',\n",
    "                'cast_name_2',\n",
    "                'cast_name_3',\n",
    "                'cast_name_4',\n",
    "                'cast_name_5',\n",
    "                'cast_name_6',\n",
    "                'cast_name_7',\n",
    "                'cast_name_8',\n",
    "                'cast_name_9',\n",
    "                'cast_name_10',\n",
    "                'director'] \n",
    "\n",
    "\n",
    "limpiar_nombres(data_credits, Lista_columnas2)\n",
    "\n",
    "\n"
   ]
  },
  {
   "cell_type": "code",
   "execution_count": 54,
   "metadata": {},
   "outputs": [
    {
     "data": {
      "text/plain": [
       "numpy.int64"
      ]
     },
     "execution_count": 54,
     "metadata": {},
     "output_type": "execute_result"
    }
   ],
   "source": [
    "type(data_credits['id'][0])\n",
    "type(data_movies['id'][0])\n"
   ]
  },
  {
   "cell_type": "markdown",
   "metadata": {},
   "source": [
    "# Exportar Archivos"
   ]
  },
  {
   "cell_type": "markdown",
   "metadata": {},
   "source": [
    "Se exportan los archivos en formato parquet por su formato comprimido"
   ]
  },
  {
   "cell_type": "code",
   "execution_count": 57,
   "metadata": {},
   "outputs": [],
   "source": [
    "# Exportar los DataFrames a archivos Parquet\n",
    "data_credits.to_parquet('./Datasets/data_credits.parquet', engine='pyarrow')\n",
    "data_movies.to_parquet('./Datasets/data_movies.parquet', engine='pyarrow')"
   ]
  }
 ],
 "metadata": {
  "kernelspec": {
   "display_name": "Python 3",
   "language": "python",
   "name": "python3"
  },
  "language_info": {
   "codemirror_mode": {
    "name": "ipython",
    "version": 3
   },
   "file_extension": ".py",
   "mimetype": "text/x-python",
   "name": "python",
   "nbconvert_exporter": "python",
   "pygments_lexer": "ipython3",
   "version": "3.10.0"
  }
 },
 "nbformat": 4,
 "nbformat_minor": 2
}
